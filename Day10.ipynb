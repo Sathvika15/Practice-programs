{
  "nbformat": 4,
  "nbformat_minor": 0,
  "metadata": {
    "colab": {
      "name": "Day10.ipynb",
      "provenance": [],
      "collapsed_sections": [],
      "authorship_tag": "ABX9TyN+C6fcCYx/ZcAziT4As3Jo",
      "include_colab_link": true
    },
    "kernelspec": {
      "name": "python3",
      "display_name": "Python 3"
    }
  },
  "cells": [
    {
      "cell_type": "markdown",
      "metadata": {
        "id": "view-in-github",
        "colab_type": "text"
      },
      "source": [
        "<a href=\"https://colab.research.google.com/github/Sathvika15/Practice-programs/blob/master/Day10.ipynb\" target=\"_parent\"><img src=\"https://colab.research.google.com/assets/colab-badge.svg\" alt=\"Open In Colab\"/></a>"
      ]
    },
    {
      "cell_type": "markdown",
      "metadata": {
        "id": "bVTnQeUyPs3m",
        "colab_type": "text"
      },
      "source": [
        "**MODULE 4 DAY 2**"
      ]
    },
    {
      "cell_type": "markdown",
      "metadata": {
        "id": "xp3eOLe_Q_1I",
        "colab_type": "text"
      },
      "source": [
        "List Methods"
      ]
    },
    {
      "cell_type": "code",
      "metadata": {
        "id": "0tQHE8jVLNG4",
        "colab_type": "code",
        "colab": {
          "base_uri": "https://localhost:8080/",
          "height": 34
        },
        "outputId": "38253159-be15-4166-a3c7-ea0b4f7dc7c6"
      },
      "source": [
        "a=['a','b','c']\n",
        "b=[1,2,3]\n",
        "a.extend(b)\n",
        "print(a)"
      ],
      "execution_count": 1,
      "outputs": [
        {
          "output_type": "stream",
          "text": [
            "['a', 'b', 'c', 1, 2, 3]\n"
          ],
          "name": "stdout"
        }
      ]
    },
    {
      "cell_type": "code",
      "metadata": {
        "id": "OSC6v-LuSwE-",
        "colab_type": "code",
        "colab": {
          "base_uri": "https://localhost:8080/",
          "height": 34
        },
        "outputId": "1df008de-aa17-4559-881a-f078d1622a7b"
      },
      "source": [
        "a=['a','b','c']\n",
        "a.insert(2,b)\n",
        "print(a)"
      ],
      "execution_count": 4,
      "outputs": [
        {
          "output_type": "stream",
          "text": [
            "['a', 'b', [1, 2, 3], 'c']\n"
          ],
          "name": "stdout"
        }
      ]
    },
    {
      "cell_type": "markdown",
      "metadata": {
        "id": "rOTrDaDaTMAc",
        "colab_type": "text"
      },
      "source": [
        "For deleting elements from the list"
      ]
    },
    {
      "cell_type": "markdown",
      "metadata": {
        "id": "2i73PEtMTQqv",
        "colab_type": "text"
      },
      "source": [
        "pop()"
      ]
    },
    {
      "cell_type": "code",
      "metadata": {
        "id": "iwq-vYUTTGFw",
        "colab_type": "code",
        "colab": {
          "base_uri": "https://localhost:8080/",
          "height": 34
        },
        "outputId": "fbd37e13-7c0a-4e89-81fc-24237fc35d6a"
      },
      "source": [
        "x=[1,2,3,4,5,6]\n",
        "x.pop(2)\n",
        "print(x)"
      ],
      "execution_count": 7,
      "outputs": [
        {
          "output_type": "stream",
          "text": [
            "[1, 2, 4, 5, 6]\n"
          ],
          "name": "stdout"
        }
      ]
    },
    {
      "cell_type": "markdown",
      "metadata": {
        "id": "8kdSGeq-ULee",
        "colab_type": "text"
      },
      "source": [
        "del()"
      ]
    },
    {
      "cell_type": "code",
      "metadata": {
        "id": "X-LOHzWXTVdi",
        "colab_type": "code",
        "colab": {
          "base_uri": "https://localhost:8080/",
          "height": 34
        },
        "outputId": "e87d0031-6a68-4f49-b18a-92f1dff02cd5"
      },
      "source": [
        "a=[1,2,5,3,4,5]\n",
        "del a[3]\n",
        "print(a)"
      ],
      "execution_count": 8,
      "outputs": [
        {
          "output_type": "stream",
          "text": [
            "[1, 2, 5, 4, 5]\n"
          ],
          "name": "stdout"
        }
      ]
    },
    {
      "cell_type": "markdown",
      "metadata": {
        "id": "9xFymqRKUZFE",
        "colab_type": "text"
      },
      "source": [
        "remove()"
      ]
    },
    {
      "cell_type": "code",
      "metadata": {
        "id": "8SbLWqR8USSv",
        "colab_type": "code",
        "colab": {
          "base_uri": "https://localhost:8080/",
          "height": 34
        },
        "outputId": "aed264e8-67e3-4615-baed-baccf1d47374"
      },
      "source": [
        "a=[1,2,4,3,5,6,7,8]\n",
        "a.remove(5)\n",
        "print(a)"
      ],
      "execution_count": 9,
      "outputs": [
        {
          "output_type": "stream",
          "text": [
            "[1, 2, 4, 3, 6, 7, 8]\n"
          ],
          "name": "stdout"
        }
      ]
    },
    {
      "cell_type": "markdown",
      "metadata": {
        "id": "ICEyRDm6U-OW",
        "colab_type": "text"
      },
      "source": [
        "del() with slice operation "
      ]
    },
    {
      "cell_type": "code",
      "metadata": {
        "id": "iIU6fP5JUn2B",
        "colab_type": "code",
        "colab": {
          "base_uri": "https://localhost:8080/",
          "height": 34
        },
        "outputId": "517f28b9-7546-4ba2-c2e8-aab1822bd12c"
      },
      "source": [
        "a=[1,2,4,3,5,6,7,8]\n",
        "del a[2:4]\n",
        "print(a)"
      ],
      "execution_count": 10,
      "outputs": [
        {
          "output_type": "stream",
          "text": [
            "[1, 2, 5, 6, 7, 8]\n"
          ],
          "name": "stdout"
        }
      ]
    },
    {
      "cell_type": "markdown",
      "metadata": {
        "id": "POkAgDuoV8EF",
        "colab_type": "text"
      },
      "source": [
        "Built - in functions"
      ]
    },
    {
      "cell_type": "code",
      "metadata": {
        "id": "-96Uq-9sVREi",
        "colab_type": "code",
        "colab": {
          "base_uri": "https://localhost:8080/",
          "height": 101
        },
        "outputId": "f43d4dfc-a33d-4584-d170-051c587858ad"
      },
      "source": [
        "a=[1,2,3,4,5]\n",
        "print(len(a))\n",
        "print(max(a))\n",
        "print(min(a))\n",
        "print(a.count(2))\n",
        "sum(a)"
      ],
      "execution_count": 18,
      "outputs": [
        {
          "output_type": "stream",
          "text": [
            "5\n",
            "5\n",
            "1\n",
            "1\n"
          ],
          "name": "stdout"
        },
        {
          "output_type": "execute_result",
          "data": {
            "text/plain": [
              "15"
            ]
          },
          "metadata": {
            "tags": []
          },
          "execution_count": 18
        }
      ]
    },
    {
      "cell_type": "code",
      "metadata": {
        "id": "op17kdD6Wm6Z",
        "colab_type": "code",
        "colab": {
          "base_uri": "https://localhost:8080/",
          "height": 50
        },
        "outputId": "12c0b359-931b-42b9-ddf9-94618f307e55"
      },
      "source": [
        "a=[1,2,2,4,5,3,6]\n",
        "sum=0\n",
        "for i in a:\n",
        "  sum=sum+i\n",
        "print(\"Sum is \",sum)\n",
        "print(\"Avg is \",sum/(len(a)))"
      ],
      "execution_count": 25,
      "outputs": [
        {
          "output_type": "stream",
          "text": [
            "Sum is  23\n",
            "Avg is  3.2857142857142856\n"
          ],
          "name": "stdout"
        }
      ]
    },
    {
      "cell_type": "markdown",
      "metadata": {
        "id": "_AAd1_2eZpkS",
        "colab_type": "text"
      },
      "source": [
        "Converting a string into a list"
      ]
    },
    {
      "cell_type": "code",
      "metadata": {
        "id": "9zxxSkDtXnPS",
        "colab_type": "code",
        "colab": {
          "base_uri": "https://localhost:8080/",
          "height": 34
        },
        "outputId": "a644eb5c-312f-4303-f4eb-f2f231272f98"
      },
      "source": [
        "str=\"India\"\n",
        "x=list(str)\n",
        "print(x)"
      ],
      "execution_count": 26,
      "outputs": [
        {
          "output_type": "stream",
          "text": [
            "['I', 'n', 'd', 'i', 'a']\n"
          ],
          "name": "stdout"
        }
      ]
    },
    {
      "cell_type": "markdown",
      "metadata": {
        "id": "uO00VOBubQDi",
        "colab_type": "text"
      },
      "source": [
        "split method"
      ]
    },
    {
      "cell_type": "code",
      "metadata": {
        "id": "34NyPkGMZwwI",
        "colab_type": "code",
        "colab": {
          "base_uri": "https://localhost:8080/",
          "height": 34
        },
        "outputId": "d8d44caf-9c21-4f07-800e-6be27cfcee48"
      },
      "source": [
        "a=\"Hi Hello Welcome\"\n",
        "t=a.split()\n",
        "print(t)"
      ],
      "execution_count": 28,
      "outputs": [
        {
          "output_type": "stream",
          "text": [
            "['Hi', 'Hello', 'Welcome']\n"
          ],
          "name": "stdout"
        }
      ]
    },
    {
      "cell_type": "markdown",
      "metadata": {
        "id": "nGgeMcMDbNcR",
        "colab_type": "text"
      },
      "source": [
        "delimitor()"
      ]
    },
    {
      "cell_type": "code",
      "metadata": {
        "id": "NbeLYNeaaeqG",
        "colab_type": "code",
        "colab": {
          "base_uri": "https://localhost:8080/",
          "height": 50
        },
        "outputId": "91b4310f-d2c8-40f1-ec1c-839fbc836ae2"
      },
      "source": [
        "a=\"Hi-Hello-Welcome\"\n",
        "delimiter='-'\n",
        "t=a.split(delimiter)\n",
        "print(t)\n",
        "t[2]='Good morning'\n",
        "print(t)"
      ],
      "execution_count": 32,
      "outputs": [
        {
          "output_type": "stream",
          "text": [
            "['Hi', 'Hello', 'Welcome']\n",
            "['Hi', 'Hello', 'Good morning']\n"
          ],
          "name": "stdout"
        }
      ]
    },
    {
      "cell_type": "markdown",
      "metadata": {
        "id": "ryrwohk4cEu3",
        "colab_type": "text"
      },
      "source": [
        "join method"
      ]
    },
    {
      "cell_type": "code",
      "metadata": {
        "id": "dMaqD10LbHNn",
        "colab_type": "code",
        "colab": {
          "base_uri": "https://localhost:8080/",
          "height": 52
        },
        "outputId": "2b681d76-92ee-40f4-8c29-9846a932fc77"
      },
      "source": [
        "print(t)\n",
        "delimiter=\" \"\n",
        "delimiter.join(t)"
      ],
      "execution_count": 30,
      "outputs": [
        {
          "output_type": "stream",
          "text": [
            "['Hi', 'Hello', 'Welcome']\n"
          ],
          "name": "stdout"
        },
        {
          "output_type": "execute_result",
          "data": {
            "application/vnd.google.colaboratory.intrinsic": {
              "type": "string"
            },
            "text/plain": [
              "'Hi Hello Welcome'"
            ]
          },
          "metadata": {
            "tags": []
          },
          "execution_count": 30
        }
      ]
    },
    {
      "cell_type": "markdown",
      "metadata": {
        "id": "B_u-Fz5acoXr",
        "colab_type": "text"
      },
      "source": [
        "#VARIABLES AND OBJECTS"
      ]
    },
    {
      "cell_type": "markdown",
      "metadata": {
        "id": "58Je_P4Zdha2",
        "colab_type": "text"
      },
      "source": [
        "is() operator checks whether the different variables pointing to the same object or no (shows bool value)"
      ]
    },
    {
      "cell_type": "markdown",
      "metadata": {
        "id": "UUJ4DFQheOwv",
        "colab_type": "text"
      },
      "source": [
        "For strings"
      ]
    },
    {
      "cell_type": "code",
      "metadata": {
        "id": "_E8_2Pq3bgiN",
        "colab_type": "code",
        "colab": {
          "base_uri": "https://localhost:8080/",
          "height": 34
        },
        "outputId": "5990f2d6-e454-4526-8e89-8aa27bbdc5bd"
      },
      "source": [
        "a='anu'\n",
        "b='anu'\n",
        "a is b"
      ],
      "execution_count": 33,
      "outputs": [
        {
          "output_type": "execute_result",
          "data": {
            "text/plain": [
              "True"
            ]
          },
          "metadata": {
            "tags": []
          },
          "execution_count": 33
        }
      ]
    },
    {
      "cell_type": "markdown",
      "metadata": {
        "id": "mUf3ZtQteQ1r",
        "colab_type": "text"
      },
      "source": [
        "For lists"
      ]
    },
    {
      "cell_type": "code",
      "metadata": {
        "id": "wrn6wbvydvn0",
        "colab_type": "code",
        "colab": {
          "base_uri": "https://localhost:8080/",
          "height": 34
        },
        "outputId": "ecb0019a-183d-4d83-bc15-1c523c822d1f"
      },
      "source": [
        "x=[1,2,3]\n",
        "y=[1,2,3]\n",
        "x is y"
      ],
      "execution_count": 34,
      "outputs": [
        {
          "output_type": "execute_result",
          "data": {
            "text/plain": [
              "False"
            ]
          },
          "metadata": {
            "tags": []
          },
          "execution_count": 34
        }
      ]
    },
    {
      "cell_type": "markdown",
      "metadata": {
        "id": "avIe9eUTfCNY",
        "colab_type": "text"
      },
      "source": [
        "Aliasing "
      ]
    },
    {
      "cell_type": "markdown",
      "metadata": {
        "id": "A4CYxYB5fdrq",
        "colab_type": "text"
      },
      "source": [
        "b is alias to a"
      ]
    },
    {
      "cell_type": "code",
      "metadata": {
        "id": "k-SnX0rHd7I1",
        "colab_type": "code",
        "colab": {
          "base_uri": "https://localhost:8080/",
          "height": 67
        },
        "outputId": "f38639ee-cbf3-485d-95e3-6032fc1e1dfb"
      },
      "source": [
        "a=[1,2,3]\n",
        "b=a\n",
        "print(b)\n",
        "a[0]='a'\n",
        "b[2]='e'\n",
        "print(a)\n",
        "print(b)"
      ],
      "execution_count": 38,
      "outputs": [
        {
          "output_type": "stream",
          "text": [
            "[1, 2, 3]\n",
            "['a', 2, 'e']\n",
            "['a', 2, 'e']\n"
          ],
          "name": "stdout"
        }
      ]
    },
    {
      "cell_type": "markdown",
      "metadata": {
        "id": "vJ0MTfdOgxbc",
        "colab_type": "text"
      },
      "source": [
        "**LIST ARGUMENTS**"
      ]
    },
    {
      "cell_type": "markdown",
      "metadata": {
        "id": "p9LTJZSKicSm",
        "colab_type": "text"
      },
      "source": [
        "Passing list as arguments"
      ]
    },
    {
      "cell_type": "code",
      "metadata": {
        "id": "0trayTKwfZPw",
        "colab_type": "code",
        "colab": {
          "base_uri": "https://localhost:8080/",
          "height": 34
        },
        "outputId": "98fd157e-a8b3-48dc-f8e4-c5e7ad407f06"
      },
      "source": [
        "def delete_element(t):\n",
        "  del t[1]\n",
        "  t.insert(2,a)\n",
        "letter=['a','d','g','r']\n",
        "delete_element(letter)\n",
        "print(letter)"
      ],
      "execution_count": 44,
      "outputs": [
        {
          "output_type": "stream",
          "text": [
            "['a', 'g', ['a', 2, 'e'], 'r']\n"
          ],
          "name": "stdout"
        }
      ]
    },
    {
      "cell_type": "markdown",
      "metadata": {
        "id": "0BLPZZ2VjITj",
        "colab_type": "text"
      },
      "source": [
        "Modifying a existing list"
      ]
    },
    {
      "cell_type": "code",
      "metadata": {
        "id": "kcP54M4MhC51",
        "colab_type": "code",
        "colab": {
          "base_uri": "https://localhost:8080/",
          "height": 50
        },
        "outputId": "0c2fac6f-dfc8-4d86-8c83-14087f984db6"
      },
      "source": [
        "t1=[1,2]\n",
        "t1=t1.append(3)\n",
        "t2=[1,2,3]\n",
        "print(t1)\n",
        "print(t2)"
      ],
      "execution_count": 49,
      "outputs": [
        {
          "output_type": "stream",
          "text": [
            "None\n",
            "[1, 2, 3]\n"
          ],
          "name": "stdout"
        }
      ]
    },
    {
      "cell_type": "markdown",
      "metadata": {
        "id": "op30dx7hjKxe",
        "colab_type": "text"
      },
      "source": [
        "Creating a new list - There is a difference"
      ]
    },
    {
      "cell_type": "code",
      "metadata": {
        "id": "UI_bbswEixe5",
        "colab_type": "code",
        "colab": {
          "base_uri": "https://localhost:8080/",
          "height": 67
        },
        "outputId": "b5c96066-a200-474d-c3f0-a23a260c80f2"
      },
      "source": [
        "t1=[1,2]\n",
        "t3=[3]\n",
        "t3=t1+t3\n",
        "print(t3)\n",
        "print(t1)\n",
        "t1 is t2"
      ],
      "execution_count": 47,
      "outputs": [
        {
          "output_type": "stream",
          "text": [
            "[1, 2, 3]\n",
            "[1, 2]\n"
          ],
          "name": "stdout"
        },
        {
          "output_type": "execute_result",
          "data": {
            "text/plain": [
              "False"
            ]
          },
          "metadata": {
            "tags": []
          },
          "execution_count": 47
        }
      ]
    },
    {
      "cell_type": "code",
      "metadata": {
        "id": "bmsFnZAOjAs9",
        "colab_type": "code",
        "colab": {}
      },
      "source": [
        ""
      ],
      "execution_count": null,
      "outputs": []
    }
  ]
}