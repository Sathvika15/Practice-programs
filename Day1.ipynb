{
  "nbformat": 4,
  "nbformat_minor": 0,
  "metadata": {
    "colab": {
      "name": "Day1.ipynb",
      "provenance": [],
      "collapsed_sections": [],
      "authorship_tag": "ABX9TyPGA/9QzX5CbADqlKG+7tVH",
      "include_colab_link": true
    },
    "kernelspec": {
      "name": "python3",
      "display_name": "Python 3"
    }
  },
  "cells": [
    {
      "cell_type": "markdown",
      "metadata": {
        "id": "view-in-github",
        "colab_type": "text"
      },
      "source": [
        "<a href=\"https://colab.research.google.com/github/Sathvika15/Practice-programs/blob/master/Day1.ipynb\" target=\"_parent\"><img src=\"https://colab.research.google.com/assets/colab-badge.svg\" alt=\"Open In Colab\"/></a>"
      ]
    },
    {
      "cell_type": "markdown",
      "metadata": {
        "id": "BA-F_a0GojpG",
        "colab_type": "text"
      },
      "source": [
        "Variables and datat types "
      ]
    },
    {
      "cell_type": "code",
      "metadata": {
        "id": "YPpTSvx3onfx",
        "colab_type": "code",
        "colab": {
          "base_uri": "https://localhost:8080/",
          "height": 50
        },
        "outputId": "baa8f646-95ef-45b8-d150-94ed15dabba2"
      },
      "source": [
        "a=4\n",
        "print(a,type(a))\n",
        "type(a)"
      ],
      "execution_count": 3,
      "outputs": [
        {
          "output_type": "stream",
          "text": [
            "4 <class 'int'>\n"
          ],
          "name": "stdout"
        },
        {
          "output_type": "execute_result",
          "data": {
            "text/plain": [
              "int"
            ]
          },
          "metadata": {
            "tags": []
          },
          "execution_count": 3
        }
      ]
    },
    {
      "cell_type": "code",
      "metadata": {
        "id": "U35G8cg0rQdK",
        "colab_type": "code",
        "colab": {
          "base_uri": "https://localhost:8080/",
          "height": 128
        },
        "outputId": "df847956-e00e-4aeb-8c2f-e522a5602549"
      },
      "source": [
        "3a=40"
      ],
      "execution_count": 4,
      "outputs": [
        {
          "output_type": "error",
          "ename": "SyntaxError",
          "evalue": "ignored",
          "traceback": [
            "\u001b[0;36m  File \u001b[0;32m\"<ipython-input-4-ee0334ae4206>\"\u001b[0;36m, line \u001b[0;32m1\u001b[0m\n\u001b[0;31m    3a=40\u001b[0m\n\u001b[0m     ^\u001b[0m\n\u001b[0;31mSyntaxError\u001b[0m\u001b[0;31m:\u001b[0m invalid syntax\n"
          ]
        }
      ]
    },
    {
      "cell_type": "code",
      "metadata": {
        "id": "ZJeahk17r12o",
        "colab_type": "code",
        "colab": {
          "base_uri": "https://localhost:8080/",
          "height": 84
        },
        "outputId": "afad843b-071d-424f-a181-3b6908876b47"
      },
      "source": [
        "a=10\n",
        "b=4\n",
        "print(a-b)\n",
        "print(a*b)\n",
        "print(a/b)\n",
        "print(a**b)\n"
      ],
      "execution_count": 7,
      "outputs": [
        {
          "output_type": "stream",
          "text": [
            "6\n",
            "40\n",
            "2.5\n",
            "10000\n"
          ],
          "name": "stdout"
        }
      ]
    },
    {
      "cell_type": "code",
      "metadata": {
        "id": "PTJCWCTXs2S7",
        "colab_type": "code",
        "colab": {
          "base_uri": "https://localhost:8080/",
          "height": 50
        },
        "outputId": "a16a1c1e-f6ad-42bf-8b49-b4f607f4401d"
      },
      "source": [
        "min=40\n",
        "print(min/3)\n",
        "print(min//3)"
      ],
      "execution_count": 8,
      "outputs": [
        {
          "output_type": "stream",
          "text": [
            "13.333333333333334\n",
            "13\n"
          ],
          "name": "stdout"
        }
      ]
    },
    {
      "cell_type": "code",
      "metadata": {
        "id": "nNDQSnKotCA0",
        "colab_type": "code",
        "colab": {
          "base_uri": "https://localhost:8080/",
          "height": 34
        },
        "outputId": "9aa15b0b-3394-494b-8efb-a4460bad119f"
      },
      "source": [
        "a=10\n",
        "b=4\n",
        "rem=a%b\n",
        "print(rem)"
      ],
      "execution_count": 9,
      "outputs": [
        {
          "output_type": "stream",
          "text": [
            "2\n"
          ],
          "name": "stdout"
        }
      ]
    },
    {
      "cell_type": "code",
      "metadata": {
        "id": "Q0THee9luYyP",
        "colab_type": "code",
        "colab": {
          "base_uri": "https://localhost:8080/",
          "height": 34
        },
        "outputId": "c54263bc-4dcc-4af9-d9c7-3f0c80e5cad6"
      },
      "source": [
        "a=5\n",
        "b=12\n",
        "print(a+b)"
      ],
      "execution_count": 10,
      "outputs": [
        {
          "output_type": "stream",
          "text": [
            "17\n"
          ],
          "name": "stdout"
        }
      ]
    },
    {
      "cell_type": "code",
      "metadata": {
        "id": "HNqiF8NutArg",
        "colab_type": "code",
        "colab": {
          "base_uri": "https://localhost:8080/",
          "height": 34
        },
        "outputId": "b39d0f56-4914-414d-a7aa-bff946f0ec74"
      },
      "source": [
        "a='5'\n",
        "b='12'\n",
        "print(a+b)"
      ],
      "execution_count": 11,
      "outputs": [
        {
          "output_type": "stream",
          "text": [
            "512\n"
          ],
          "name": "stdout"
        }
      ]
    },
    {
      "cell_type": "code",
      "metadata": {
        "id": "my-3Ca5-um0J",
        "colab_type": "code",
        "colab": {
          "base_uri": "https://localhost:8080/",
          "height": 34
        },
        "outputId": "5c6d78c6-71f1-4e87-9721-3901202cf34f"
      },
      "source": [
        "a=\"Test\"\n",
        "b=3\n",
        "print(a*b)"
      ],
      "execution_count": 12,
      "outputs": [
        {
          "output_type": "stream",
          "text": [
            "TestTestTest\n"
          ],
          "name": "stdout"
        }
      ]
    },
    {
      "cell_type": "code",
      "metadata": {
        "id": "j2Pp7A1PvH6O",
        "colab_type": "code",
        "colab": {
          "base_uri": "https://localhost:8080/",
          "height": 50
        },
        "outputId": "46c8bea8-223a-4997-ac17-140d9750aae1"
      },
      "source": [
        "a=input('Enter the value')\n",
        "print(a)"
      ],
      "execution_count": 15,
      "outputs": [
        {
          "output_type": "stream",
          "text": [
            "Enter the value3\n",
            "3\n"
          ],
          "name": "stdout"
        }
      ]
    },
    {
      "cell_type": "code",
      "metadata": {
        "id": "WzfRooORvfrt",
        "colab_type": "code",
        "colab": {
          "base_uri": "https://localhost:8080/",
          "height": 50
        },
        "outputId": "854bb9e8-68da-4c92-be8c-9dd7001069f1"
      },
      "source": [
        "b=input('Enter a value')\n",
        "print(b,type(b))"
      ],
      "execution_count": 16,
      "outputs": [
        {
          "output_type": "stream",
          "text": [
            "Enter a value10\n",
            "10 <class 'str'>\n"
          ],
          "name": "stdout"
        }
      ]
    },
    {
      "cell_type": "markdown",
      "metadata": {
        "id": "l1mrm0kRwew2",
        "colab_type": "text"
      },
      "source": [
        "Write a pthon program to take a input from the user and add them "
      ]
    },
    {
      "cell_type": "code",
      "metadata": {
        "id": "m7f_th8Xwlhh",
        "colab_type": "code",
        "colab": {
          "base_uri": "https://localhost:8080/",
          "height": 67
        },
        "outputId": "b53d29ef-ebf4-419d-daa4-5194c4158bf9"
      },
      "source": [
        "a=int(input('Enter the first value'))\n",
        "b=int(input(\"Enter the second value\"))\n",
        "print(a+b)"
      ],
      "execution_count": 17,
      "outputs": [
        {
          "output_type": "stream",
          "text": [
            "Enter the first value5\n",
            "Enter the second value10\n",
            "15\n"
          ],
          "name": "stdout"
        }
      ]
    },
    {
      "cell_type": "code",
      "metadata": {
        "id": "sOp05D8kxPSh",
        "colab_type": "code",
        "colab": {
          "base_uri": "https://localhost:8080/",
          "height": 67
        },
        "outputId": "aa4806a3-3984-4feb-bd30-4a34af3b880d"
      },
      "source": [
        "a=int(input('enter the first value'))\n",
        "b=int(input(\"Enter the second value\"))\n",
        "print(a-b)"
      ],
      "execution_count": 18,
      "outputs": [
        {
          "output_type": "stream",
          "text": [
            "enter the first value50\n",
            "Enter the second value28\n",
            "22\n"
          ],
          "name": "stdout"
        }
      ]
    },
    {
      "cell_type": "markdown",
      "metadata": {
        "id": "GkxztFvIyrku",
        "colab_type": "text"
      },
      "source": [
        "Write a python to read 2 floating point numbers(length and breadth) from user and display the area "
      ]
    },
    {
      "cell_type": "code",
      "metadata": {
        "id": "qa7BHnRQxo8V",
        "colab_type": "code",
        "colab": {
          "base_uri": "https://localhost:8080/",
          "height": 67
        },
        "outputId": "207ba1bf-a158-4858-d9c5-6ef1f471afe4"
      },
      "source": [
        "Length=float(input(\"Enter the length of the rectangle  \"))\n",
        "Breadth=float(input(\"Enter the breadth of the rectangle  \"))\n",
        "Area=Length*Breadth\n",
        "print(\"The area is the rectangle is  \",Area)"
      ],
      "execution_count": 21,
      "outputs": [
        {
          "output_type": "stream",
          "text": [
            "Enter the length of the rectangle  15\n",
            "Enter the breadth of the rectangle  20\n",
            "The area is the rectangle is   300.0\n"
          ],
          "name": "stdout"
        }
      ]
    },
    {
      "cell_type": "markdown",
      "metadata": {
        "id": "hJyOdk_KzUIe",
        "colab_type": "text"
      },
      "source": [
        "Write a python program to take input from user their name and age display"
      ]
    },
    {
      "cell_type": "code",
      "metadata": {
        "id": "u_38z7K8zgdm",
        "colab_type": "code",
        "colab": {
          "base_uri": "https://localhost:8080/",
          "height": 84
        },
        "outputId": "1329799f-842a-4a24-f297-bd90aec5343e"
      },
      "source": [
        "a=input(\"Enter your name \")\n",
        "b=int(input(\"Enter your age \"))\n",
        "print(\"Hello   \",a)\n",
        "print(\"Your age is   \",b)"
      ],
      "execution_count": 22,
      "outputs": [
        {
          "output_type": "stream",
          "text": [
            "Enter your name Sathvika\n",
            "Enter your age 17\n",
            "Hello    Sathvika\n",
            "Your age is    17\n"
          ],
          "name": "stdout"
        }
      ]
    },
    {
      "cell_type": "markdown",
      "metadata": {
        "id": "IT84FrFZ0-Z8",
        "colab_type": "text"
      },
      "source": [
        "Assignment operator(=)"
      ]
    },
    {
      "cell_type": "code",
      "metadata": {
        "id": "CcSQ4l3u1Cgh",
        "colab_type": "code",
        "colab": {
          "base_uri": "https://localhost:8080/",
          "height": 34
        },
        "outputId": "cfa545d1-cff0-42e3-b98d-9f48b14a9f94"
      },
      "source": [
        "time=2.4\n",
        "print(time)"
      ],
      "execution_count": 23,
      "outputs": [
        {
          "output_type": "stream",
          "text": [
            "2.4\n"
          ],
          "name": "stdout"
        }
      ]
    },
    {
      "cell_type": "code",
      "metadata": {
        "id": "6POYMcu6ztat",
        "colab_type": "code",
        "colab": {
          "base_uri": "https://localhost:8080/",
          "height": 67
        },
        "outputId": "c6f3ddbc-e9cb-451e-ade3-1a017f1bdffc"
      },
      "source": [
        "a,b=int(input(\" First number \")),int(input(\" Second number \"))\n",
        "print(a,b)\n"
      ],
      "execution_count": 24,
      "outputs": [
        {
          "output_type": "stream",
          "text": [
            " First number 1\n",
            " Second number 2\n",
            "1 2\n"
          ],
          "name": "stdout"
        }
      ]
    },
    {
      "cell_type": "code",
      "metadata": {
        "id": "5MXcNHVf11L-",
        "colab_type": "code",
        "colab": {}
      },
      "source": [
        ""
      ],
      "execution_count": null,
      "outputs": []
    }
  ]
}