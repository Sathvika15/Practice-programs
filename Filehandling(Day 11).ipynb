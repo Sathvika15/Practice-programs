{
 "cells": [
  {
   "cell_type": "markdown",
   "metadata": {},
   "source": [
    "# FILE HANDLING"
   ]
  },
  {
   "cell_type": "markdown",
   "metadata": {},
   "source": [
    "Operations:\n",
    "1. Creating a file \n",
    "2. Adding content to the file \n",
    "3. Reading content from the file\n",
    "4. Renaming a file\n",
    "5. Removing/Deleting a file\n",
    "\n",
    "\n",
    "DIFFERENT TYPES OF MODES:\n",
    "1. Read mode - 'r'\n",
    "2. Write mode - 'w'\n",
    "3. Append - 'a'\n",
    "4. Create - 'x'\n",
    "5. Read and write - 'r+'\n",
    "\n",
    "\n",
    "BASIC FUNCTION :(used while creating a file)\n",
    "1. open()- for opening a file \n",
    "2. close()- for closing a file (compulsary or else the file is not saved )\n"
   ]
  },
  {
   "cell_type": "markdown",
   "metadata": {},
   "source": [
    "1. For creating a file \n",
    "SYNTAX:\n",
    "Variable_name=open(\"Filename\",\"mode\")\n",
    "FOR CLOSING:\n",
    "Variable_name.close()"
   ]
  },
  {
   "cell_type": "code",
   "execution_count": 7,
   "metadata": {},
   "outputs": [],
   "source": [
    "f=open(\"demo1.txt\",'w')\n",
    "f.close()"
   ]
  },
  {
   "cell_type": "markdown",
   "metadata": {},
   "source": [
    "2. For opening a existing file "
   ]
  },
  {
   "cell_type": "code",
   "execution_count": null,
   "metadata": {},
   "outputs": [],
   "source": [
    "f=open(\"demo.txt\")\n",
    "f.close()"
   ]
  },
  {
   "cell_type": "markdown",
   "metadata": {},
   "source": [
    "3. To write something "
   ]
  },
  {
   "cell_type": "code",
   "execution_count": 11,
   "metadata": {},
   "outputs": [],
   "source": [
    "f=open(\"demo1.txt\",'w')\n",
    "f.write(\"Hello Welcome\")\n",
    "f.close()"
   ]
  },
  {
   "cell_type": "markdown",
   "metadata": {},
   "source": [
    "4. To read from the file and displaying it in the form of string \n",
    "(read always takes the content in the form of 'STRING')"
   ]
  },
  {
   "cell_type": "code",
   "execution_count": 17,
   "metadata": {},
   "outputs": [
    {
     "name": "stdout",
     "output_type": "stream",
     "text": [
      "Hello Welcome\n",
      "<class 'str'>\n"
     ]
    }
   ],
   "source": [
    "f=open(\"demo1.txt\",\"r\")\n",
    "str=f.read()\n",
    "print(str)\n",
    "print(type(str))\n",
    "f.close()"
   ]
  },
  {
   "cell_type": "markdown",
   "metadata": {},
   "source": [
    "or"
   ]
  },
  {
   "cell_type": "code",
   "execution_count": 18,
   "metadata": {},
   "outputs": [
    {
     "name": "stdout",
     "output_type": "stream",
     "text": [
      "Hello Welcome\n"
     ]
    }
   ],
   "source": [
    "f=open(\"demo1.txt\",\"r\")\n",
    "print(f.read())\n",
    "f.close()"
   ]
  },
  {
   "cell_type": "markdown",
   "metadata": {},
   "source": [
    "5. To append a file \n",
    "( for append we have to use 'write' function only) "
   ]
  },
  {
   "cell_type": "code",
   "execution_count": 20,
   "metadata": {},
   "outputs": [],
   "source": [
    "f=open(\"demo1.txt\",'a')\n",
    "f.write(\"\\n Good morning\")\n",
    "f.close()"
   ]
  },
  {
   "cell_type": "markdown",
   "metadata": {},
   "source": [
    "6. To write multiple lines "
   ]
  },
  {
   "cell_type": "code",
   "execution_count": null,
   "metadata": {},
   "outputs": [],
   "source": [
    "f=open(\"demo1.txt\",'a')\n",
    "s=\"Python is \n",
    "very \n",
    "intresting \"\n",
    "\n",
    "\n",
    "f.write(\"\\n Good morning\")\n",
    "f.close()"
   ]
  },
  {
   "cell_type": "markdown",
   "metadata": {},
   "source": [
    "so we have to use triple cotes('''_''') to get multiple lines "
   ]
  },
  {
   "cell_type": "code",
   "execution_count": 23,
   "metadata": {},
   "outputs": [],
   "source": [
    "f=open(\"demo1.txt\",'a')\n",
    "s='''Python is \n",
    "very \n",
    "intresting '''\n",
    "\n",
    "\n",
    "f.write(\"\\n Good morning\")\n",
    "f.write(s)\n",
    "f.close()"
   ]
  },
  {
   "cell_type": "markdown",
   "metadata": {},
   "source": [
    "7. All the methods and functions are present in the OS to perform operations like 'Renaming' and 'Removing'\n",
    "\n",
    "We have to use:\n",
    "import os"
   ]
  },
  {
   "cell_type": "markdown",
   "metadata": {},
   "source": [
    "8. To rename a file \n",
    "SYNTAX:\n",
    "import os\n",
    "os.rename(\"Old_filename\",\"New_filename\")"
   ]
  },
  {
   "cell_type": "code",
   "execution_count": 25,
   "metadata": {},
   "outputs": [],
   "source": [
    "import os \n",
    "os.rename(\"demo1.txt\",\"Python_output.txt\")"
   ]
  },
  {
   "cell_type": "markdown",
   "metadata": {},
   "source": [
    "9. To remove a file \n",
    "import os \n",
    "os.remove(\"File_name_you_want_to_remove\")"
   ]
  },
  {
   "cell_type": "code",
   "execution_count": 26,
   "metadata": {},
   "outputs": [],
   "source": [
    "os.remove(\"demo.txt\")"
   ]
  },
  {
   "cell_type": "markdown",
   "metadata": {},
   "source": [
    "10.\n",
    "# 1. Create a file and add content\n",
    "# 2. Create empty file and copy the content from the first file"
   ]
  },
  {
   "cell_type": "code",
   "execution_count": 45,
   "metadata": {},
   "outputs": [],
   "source": [
    "f1=open(\"Python.txt\",'w')\n",
    "s='''Hi \n",
    "Hello \n",
    "Goodmorning'''\n",
    "f1.write(s)\n",
    "f1.close()\n",
    "\n",
    "f2=open(\"Python2.txt\",'w')\n",
    "f3=open(\"Python.txt\",'r')\n",
    "for i in f3:\n",
    "        f2.write(i)\n",
    "f3.close()\n",
    "f2.close()"
   ]
  },
  {
   "cell_type": "markdown",
   "metadata": {},
   "source": [
    "11.\n",
    "# Create a file and add content to the file :\n",
    "1. Count the number of characters \n",
    "2. Count the number of words \n",
    "3. Count the number of lines "
   ]
  },
  {
   "cell_type": "code",
   "execution_count": 1,
   "metadata": {},
   "outputs": [
    {
     "name": "stdout",
     "output_type": "stream",
     "text": [
      "The number of characters 31\n"
     ]
    }
   ],
   "source": [
    "f=open(\"Program.txt\",'w')\n",
    "s='''Hey there !\n",
    "How are you today ?'''\n",
    "f.write(s)\n",
    "f.close()\n",
    "\n",
    "f1=open(\"Program.txt\",'r')\n",
    "r=f1.read()\n",
    "print(\"The number of characters\",len(r))\n",
    " "
   ]
  },
  {
   "cell_type": "code",
   "execution_count": 2,
   "metadata": {},
   "outputs": [
    {
     "name": "stdout",
     "output_type": "stream",
     "text": [
      "['Hey', 'there', '!', 'How', 'are', 'you', 'today', '?']\n",
      "The number of words are 8\n"
     ]
    }
   ],
   "source": [
    "f=open(\"Program.txt\",'w')\n",
    "s='''Hey there !\n",
    "How are you today ?'''\n",
    "f.write(s)\n",
    "f.close()\n",
    "\n",
    "f=open(\"Program.txt\",'r')\n",
    "s=f.read()\n",
    "print(s.split())\n",
    "print(\"The number of words are\",len(s.split()))\n",
    "f.close()\n"
   ]
  },
  {
   "cell_type": "code",
   "execution_count": 58,
   "metadata": {},
   "outputs": [
    {
     "name": "stdout",
     "output_type": "stream",
     "text": [
      "The number of lines 3\n"
     ]
    }
   ],
   "source": [
    "f=open(\"Program.txt\",'w')\n",
    "count=0\n",
    "s='''Hey there !\n",
    "How are you today ?\n",
    "I am great '''\n",
    "f.write(s)\n",
    "f.close()\n",
    "\n",
    "f1=open(\"Program.txt\",'r')\n",
    "for i in f1:\n",
    "    count=count+1\n",
    "print(\"The number of lines\",count)\n",
    "f1.close()\n",
    "\n",
    "    "
   ]
  },
  {
   "cell_type": "markdown",
   "metadata": {},
   "source": [
    "or (for lines )"
   ]
  },
  {
   "cell_type": "code",
   "execution_count": 3,
   "metadata": {},
   "outputs": [
    {
     "name": "stdout",
     "output_type": "stream",
     "text": [
      "The number of lines are 2\n"
     ]
    }
   ],
   "source": [
    "f=open(\"Program.txt\",'w')\n",
    "s='''Hey there !\n",
    "How are you today ?'''\n",
    "f.write(s)\n",
    "f.close()\n",
    "\n",
    "f=open(\"Program.txt\",'r')\n",
    "s=f.read()\n",
    "print(\"The number of lines are\",len(s.split('\\n')))\n",
    "f.close()"
   ]
  },
  {
   "cell_type": "markdown",
   "metadata": {},
   "source": [
    "12.\n",
    "### EXCEPTION HANDLING\n",
    "1. try \n",
    "2. except "
   ]
  },
  {
   "cell_type": "code",
   "execution_count": 59,
   "metadata": {},
   "outputs": [
    {
     "ename": "FileNotFoundError",
     "evalue": "[Errno 2] No such file or directory: 'File.txt'",
     "output_type": "error",
     "traceback": [
      "\u001b[1;31m---------------------------------------------------------------------------\u001b[0m",
      "\u001b[1;31mFileNotFoundError\u001b[0m                         Traceback (most recent call last)",
      "\u001b[1;32m<ipython-input-59-d7504eb936b9>\u001b[0m in \u001b[0;36m<module>\u001b[1;34m\u001b[0m\n\u001b[1;32m----> 1\u001b[1;33m \u001b[0mf\u001b[0m\u001b[1;33m=\u001b[0m\u001b[0mopen\u001b[0m\u001b[1;33m(\u001b[0m\u001b[1;34m\"File.txt\"\u001b[0m\u001b[1;33m)\u001b[0m\u001b[1;33m\u001b[0m\u001b[1;33m\u001b[0m\u001b[0m\n\u001b[0m\u001b[0;32m      2\u001b[0m \u001b[0mf\u001b[0m\u001b[1;33m.\u001b[0m\u001b[0mclose\u001b[0m\u001b[1;33m(\u001b[0m\u001b[1;33m)\u001b[0m\u001b[1;33m\u001b[0m\u001b[1;33m\u001b[0m\u001b[0m\n",
      "\u001b[1;31mFileNotFoundError\u001b[0m: [Errno 2] No such file or directory: 'File.txt'"
     ]
    }
   ],
   "source": [
    "f=open(\"File.txt\")\n",
    "f.close()"
   ]
  },
  {
   "cell_type": "markdown",
   "metadata": {},
   "source": [
    "So for these kind of situation we can use :\n",
    "We will not get any error, the exception handling part takes care of the errors."
   ]
  },
  {
   "cell_type": "code",
   "execution_count": 61,
   "metadata": {},
   "outputs": [
    {
     "name": "stdout",
     "output_type": "stream",
     "text": [
      "File does not exist \n"
     ]
    }
   ],
   "source": [
    "try:\n",
    "    f=open(\"File.txt\")\n",
    "except:\n",
    "    print(\"File does not exist \")\n",
    "finally:\n",
    "    f.close()"
   ]
  },
  {
   "cell_type": "markdown",
   "metadata": {},
   "source": [
    "13. Sometimes the errors are not displayed. So to check where we made a mistake we can use \"REPR\"- means REPRESENTATION\n",
    "(for example as new lines - because they are invisible\")"
   ]
  },
  {
   "cell_type": "code",
   "execution_count": 64,
   "metadata": {},
   "outputs": [
    {
     "name": "stdout",
     "output_type": "stream",
     "text": [
      "1 2\t 3\n",
      " 4\n",
      "'1 2\\t 3\\n 4'\n"
     ]
    }
   ],
   "source": [
    "s='1 2\\t 3\\n 4'\n",
    "print(s)\n",
    "print(repr(s))"
   ]
  },
  {
   "cell_type": "code",
   "execution_count": null,
   "metadata": {},
   "outputs": [],
   "source": []
  }
 ],
 "metadata": {
  "kernelspec": {
   "display_name": "Python 3",
   "language": "python",
   "name": "python3"
  },
  "language_info": {
   "codemirror_mode": {
    "name": "ipython",
    "version": 3
   },
   "file_extension": ".py",
   "mimetype": "text/x-python",
   "name": "python",
   "nbconvert_exporter": "python",
   "pygments_lexer": "ipython3",
   "version": "3.7.6"
  }
 },
 "nbformat": 4,
 "nbformat_minor": 4
}
