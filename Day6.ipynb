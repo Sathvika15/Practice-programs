{
  "nbformat": 4,
  "nbformat_minor": 0,
  "metadata": {
    "colab": {
      "name": "Day6.ipynb",
      "provenance": [],
      "authorship_tag": "ABX9TyNZsgf0y6mHgADUHONGSBK7",
      "include_colab_link": true
    },
    "kernelspec": {
      "name": "python3",
      "display_name": "Python 3"
    }
  },
  "cells": [
    {
      "cell_type": "markdown",
      "metadata": {
        "id": "view-in-github",
        "colab_type": "text"
      },
      "source": [
        "<a href=\"https://colab.research.google.com/github/Sathvika15/Practice-programs/blob/master/Day6.ipynb\" target=\"_parent\"><img src=\"https://colab.research.google.com/assets/colab-badge.svg\" alt=\"Open In Colab\"/></a>"
      ]
    },
    {
      "cell_type": "markdown",
      "metadata": {
        "id": "l-IhdxUHgltb",
        "colab_type": "text"
      },
      "source": [
        " **LOOPING STATEMENTS**"
      ]
    },
    {
      "cell_type": "markdown",
      "metadata": {
        "id": "W8ABPkgqguVu",
        "colab_type": "text"
      },
      "source": [
        "while "
      ]
    },
    {
      "cell_type": "code",
      "metadata": {
        "id": "sez29AORgCdG",
        "colab_type": "code",
        "colab": {}
      },
      "source": [
        "SYNTAX: \n",
        "#This is formatted as code \n",
        "while condition:\n",
        "  body of the loop \n",
        "  loop index increment \n",
        "else:(optional)\n",
        "  statement "
      ],
      "execution_count": null,
      "outputs": []
    },
    {
      "cell_type": "code",
      "metadata": {
        "id": "W9g71Pdmh_E8",
        "colab_type": "code",
        "colab": {
          "base_uri": "https://localhost:8080/",
          "height": 84
        },
        "outputId": "73f519f5-8470-4bca-d12d-b297b492feb2"
      },
      "source": [
        "counter=0\n",
        "while counter<3:\n",
        "  print(\"It's inside while loop \")\n",
        "  counter=counter+1 \n",
        "else:\n",
        "  print(\"Outside the loop \")  "
      ],
      "execution_count": 2,
      "outputs": [
        {
          "output_type": "stream",
          "text": [
            "It's inside while loop \n",
            "It's inside while loop \n",
            "It's inside while loop \n",
            "Outside the loop \n"
          ],
          "name": "stdout"
        }
      ]
    },
    {
      "cell_type": "code",
      "metadata": {
        "id": "zuSmsmosiOFN",
        "colab_type": "code",
        "colab": {
          "base_uri": "https://localhost:8080/",
          "height": 202
        },
        "outputId": "73653409-9710-40b5-a6cb-0af60c0ac355"
      },
      "source": [
        "n=0\n",
        "while n<10:\n",
        "  print(n)\n",
        "  n=n+1\n",
        "print(\"Outside the while\")  \n",
        "  "
      ],
      "execution_count": 3,
      "outputs": [
        {
          "output_type": "stream",
          "text": [
            "0\n",
            "1\n",
            "2\n",
            "3\n",
            "4\n",
            "5\n",
            "6\n",
            "7\n",
            "8\n",
            "9\n",
            "Outside the while\n"
          ],
          "name": "stdout"
        }
      ]
    },
    {
      "cell_type": "markdown",
      "metadata": {
        "id": "abGKR0jqkazP",
        "colab_type": "text"
      },
      "source": [
        "Program to check whether the number if palindrome or no "
      ]
    },
    {
      "cell_type": "code",
      "metadata": {
        "id": "Q24Bk2DEjCmw",
        "colab_type": "code",
        "colab": {
          "base_uri": "https://localhost:8080/",
          "height": 67
        },
        "outputId": "203441e5-6028-48a5-beed-9fac12137899"
      },
      "source": [
        "a=int(input(\"Enter your number \"))\n",
        "temp=a\n",
        "rev=0\n",
        "while a>0:\n",
        "  rem=a%10  \n",
        "  rev=(rev*10)+rem\n",
        "  a=a//10  \n",
        "print(\"The reverse of the number is \",rev)\n",
        "if (temp==rev):\n",
        "  print(\"The number is a palindrome number \")\n",
        "else:\n",
        "  print(\"It is not a palindrome number \")  "
      ],
      "execution_count": 7,
      "outputs": [
        {
          "output_type": "stream",
          "text": [
            "Enter your number 323\n",
            "The reverse of the number is  323\n",
            "The number is a palindrome number \n"
          ],
          "name": "stdout"
        }
      ]
    },
    {
      "cell_type": "markdown",
      "metadata": {
        "id": "QpiSJypPosFH",
        "colab_type": "text"
      },
      "source": [
        "Program for reverse of a number "
      ]
    },
    {
      "cell_type": "code",
      "metadata": {
        "id": "azFLTrk3oLcn",
        "colab_type": "code",
        "colab": {
          "base_uri": "https://localhost:8080/",
          "height": 50
        },
        "outputId": "8a3433c8-c91f-4405-ddf9-1251be2f8b61"
      },
      "source": [
        "a=int(input(\"Enter your number \"))\n",
        "temp=a\n",
        "rev=0\n",
        "while a>0:\n",
        "  rem=a%10  \n",
        "  rev=(rev*10)+rem\n",
        "  a=a//10  \n",
        "print(\"The reverse of the number is \",rev)"
      ],
      "execution_count": 8,
      "outputs": [
        {
          "output_type": "stream",
          "text": [
            "Enter your number 123\n",
            "The reverse of the number is  321\n"
          ],
          "name": "stdout"
        }
      ]
    },
    {
      "cell_type": "code",
      "metadata": {
        "id": "xrzrNFaYoNEK",
        "colab_type": "code",
        "colab": {}
      },
      "source": [
        "123"
      ],
      "execution_count": null,
      "outputs": []
    },
    {
      "cell_type": "markdown",
      "metadata": {
        "id": "IENhxvVho_Zi",
        "colab_type": "text"
      },
      "source": [
        "Program to find the divisor of a number (the number is never divisible by the number more than half of the orginal number)"
      ]
    },
    {
      "cell_type": "code",
      "metadata": {
        "id": "JHrNcDvOqtkI",
        "colab_type": "code",
        "colab": {
          "base_uri": "https://localhost:8080/",
          "height": 118
        },
        "outputId": "9952ee32-489b-43ee-ec08-09a5d9be39c4"
      },
      "source": [
        "n=int(input(\"Enter your number \"))\n",
        "i=2\n",
        "while i<=n//2:\n",
        "    if n%i==0:\n",
        "        print(i)\n",
        "    i=i+1\n",
        "else:\n",
        "  print(\"These are the divisors of the given number \")"
      ],
      "execution_count": 5,
      "outputs": [
        {
          "output_type": "stream",
          "text": [
            "Enter your number 18\n",
            "2\n",
            "3\n",
            "6\n",
            "9\n",
            "These are the divisors of the given number \n"
          ],
          "name": "stdout"
        }
      ]
    },
    {
      "cell_type": "markdown",
      "metadata": {
        "id": "jA3CtP4xsKVX",
        "colab_type": "text"
      },
      "source": [
        "for loop"
      ]
    },
    {
      "cell_type": "code",
      "metadata": {
        "id": "_3fuOBlxsME3",
        "colab_type": "code",
        "colab": {}
      },
      "source": [
        "for value in sequence:\n",
        "  body of loop\n",
        "else:\n",
        "  statements   "
      ],
      "execution_count": null,
      "outputs": []
    },
    {
      "cell_type": "code",
      "metadata": {
        "id": "z13d0bI1s8hf",
        "colab_type": "code",
        "colab": {
          "base_uri": "https://localhost:8080/",
          "height": 84
        },
        "outputId": "1a1be82a-6026-4d75-dcd3-9de1f90c5c60"
      },
      "source": [
        "friends=['Raju','Ravi','Ram']\n",
        "for friend in friends:\n",
        "  print(\"Happy new yaer: \",friend)\n",
        "print(\"End\")  "
      ],
      "execution_count": 6,
      "outputs": [
        {
          "output_type": "stream",
          "text": [
            "Happy new yaer:  Raju\n",
            "Happy new yaer:  Ravi\n",
            "Happy new yaer:  Ram\n",
            "End\n"
          ],
          "name": "stdout"
        }
      ]
    },
    {
      "cell_type": "markdown",
      "metadata": {
        "id": "1nyrpV1itcVO",
        "colab_type": "text"
      },
      "source": [
        "Pyhton program to print multiplication table "
      ]
    },
    {
      "cell_type": "code",
      "metadata": {
        "id": "0JB5DRx4tMlE",
        "colab_type": "code",
        "colab": {
          "base_uri": "https://localhost:8080/",
          "height": 218
        },
        "outputId": "e6913bef-b68e-4805-b578-76c9e0a37467"
      },
      "source": [
        "n=int(input(\"Enter the number to display the multiplication table \"))\n",
        "for i in range(0,11):\n",
        "  print(n,\" x \",i,\" = \",(n*i))\n"
      ],
      "execution_count": 8,
      "outputs": [
        {
          "output_type": "stream",
          "text": [
            "Enter the number to display the multiplication table 5\n",
            "5  x  0  =  0\n",
            "5  x  1  =  5\n",
            "5  x  2  =  10\n",
            "5  x  3  =  15\n",
            "5  x  4  =  20\n",
            "5  x  5  =  25\n",
            "5  x  6  =  30\n",
            "5  x  7  =  35\n",
            "5  x  8  =  40\n",
            "5  x  9  =  45\n",
            "5  x  10  =  50\n"
          ],
          "name": "stdout"
        }
      ]
    },
    {
      "cell_type": "code",
      "metadata": {
        "id": "i6u2T-jpubdy",
        "colab_type": "code",
        "colab": {
          "base_uri": "https://localhost:8080/",
          "height": 50
        },
        "outputId": "a932d0d7-694e-44eb-ac4a-cc06b1f982d5"
      },
      "source": [
        "x=range(5)\n",
        "print(type(x),x)\n",
        "x=list(range(5))\n",
        "print(type(x),x)"
      ],
      "execution_count": 9,
      "outputs": [
        {
          "output_type": "stream",
          "text": [
            "<class 'range'> range(0, 5)\n",
            "<class 'list'> [0, 1, 2, 3, 4]\n"
          ],
          "name": "stdout"
        }
      ]
    },
    {
      "cell_type": "code",
      "metadata": {
        "id": "9l4dX8XRxcKk",
        "colab_type": "code",
        "colab": {}
      },
      "source": [
        ""
      ],
      "execution_count": null,
      "outputs": []
    }
  ]
}