{
  "nbformat": 4,
  "nbformat_minor": 0,
  "metadata": {
    "colab": {
      "name": "Day8.ipynb",
      "provenance": [],
      "collapsed_sections": [],
      "authorship_tag": "ABX9TyMchUfbEMVyoU1U1y+a9BFD",
      "include_colab_link": true
    },
    "kernelspec": {
      "name": "python3",
      "display_name": "Python 3"
    }
  },
  "cells": [
    {
      "cell_type": "markdown",
      "metadata": {
        "id": "view-in-github",
        "colab_type": "text"
      },
      "source": [
        "<a href=\"https://colab.research.google.com/github/Sathvika15/Practice-programs/blob/master/Day8.ipynb\" target=\"_parent\"><img src=\"https://colab.research.google.com/assets/colab-badge.svg\" alt=\"Open In Colab\"/></a>"
      ]
    },
    {
      "cell_type": "markdown",
      "metadata": {
        "id": "Rn92xoSa13d-",
        "colab_type": "text"
      },
      "source": [
        "**STRINGS**\n",
        "String are immutable "
      ]
    },
    {
      "cell_type": "code",
      "metadata": {
        "id": "Jb5_g2w1uEx5",
        "colab_type": "code",
        "colab": {
          "base_uri": "https://localhost:8080/",
          "height": 1000
        },
        "outputId": "f3cbce15-baa8-4767-90ba-c1f9cb369cb3"
      },
      "source": [
        "s1='A'\n",
        "dir(s1)"
      ],
      "execution_count": 2,
      "outputs": [
        {
          "output_type": "execute_result",
          "data": {
            "text/plain": [
              "['__add__',\n",
              " '__class__',\n",
              " '__contains__',\n",
              " '__delattr__',\n",
              " '__dir__',\n",
              " '__doc__',\n",
              " '__eq__',\n",
              " '__format__',\n",
              " '__ge__',\n",
              " '__getattribute__',\n",
              " '__getitem__',\n",
              " '__getnewargs__',\n",
              " '__gt__',\n",
              " '__hash__',\n",
              " '__init__',\n",
              " '__init_subclass__',\n",
              " '__iter__',\n",
              " '__le__',\n",
              " '__len__',\n",
              " '__lt__',\n",
              " '__mod__',\n",
              " '__mul__',\n",
              " '__ne__',\n",
              " '__new__',\n",
              " '__reduce__',\n",
              " '__reduce_ex__',\n",
              " '__repr__',\n",
              " '__rmod__',\n",
              " '__rmul__',\n",
              " '__setattr__',\n",
              " '__sizeof__',\n",
              " '__str__',\n",
              " '__subclasshook__',\n",
              " 'capitalize',\n",
              " 'casefold',\n",
              " 'center',\n",
              " 'count',\n",
              " 'encode',\n",
              " 'endswith',\n",
              " 'expandtabs',\n",
              " 'find',\n",
              " 'format',\n",
              " 'format_map',\n",
              " 'index',\n",
              " 'isalnum',\n",
              " 'isalpha',\n",
              " 'isdecimal',\n",
              " 'isdigit',\n",
              " 'isidentifier',\n",
              " 'islower',\n",
              " 'isnumeric',\n",
              " 'isprintable',\n",
              " 'isspace',\n",
              " 'istitle',\n",
              " 'isupper',\n",
              " 'join',\n",
              " 'ljust',\n",
              " 'lower',\n",
              " 'lstrip',\n",
              " 'maketrans',\n",
              " 'partition',\n",
              " 'replace',\n",
              " 'rfind',\n",
              " 'rindex',\n",
              " 'rjust',\n",
              " 'rpartition',\n",
              " 'rsplit',\n",
              " 'rstrip',\n",
              " 'split',\n",
              " 'splitlines',\n",
              " 'startswith',\n",
              " 'strip',\n",
              " 'swapcase',\n",
              " 'title',\n",
              " 'translate',\n",
              " 'upper',\n",
              " 'zfill']"
            ]
          },
          "metadata": {
            "tags": []
          },
          "execution_count": 2
        }
      ]
    },
    {
      "cell_type": "markdown",
      "metadata": {
        "id": "OmYK6q3i4N0Q",
        "colab_type": "text"
      },
      "source": [
        "title() method - Captilises the first character of each string "
      ]
    },
    {
      "cell_type": "code",
      "metadata": {
        "id": "2VZ4mty5218W",
        "colab_type": "code",
        "colab": {
          "base_uri": "https://localhost:8080/",
          "height": 34
        },
        "outputId": "33f3e5b0-af29-40f8-9e17-92b592646829"
      },
      "source": [
        "s1=\"hey there \"\n",
        "print(s1.title())"
      ],
      "execution_count": 3,
      "outputs": [
        {
          "output_type": "stream",
          "text": [
            "Hey There \n"
          ],
          "name": "stdout"
        }
      ]
    },
    {
      "cell_type": "markdown",
      "metadata": {
        "id": "aX5FCEH64WIj",
        "colab_type": "text"
      },
      "source": [
        "isalpha() method - Check if all the characters of the string are alphabets, if yes, displays \"TRUE\""
      ]
    },
    {
      "cell_type": "code",
      "metadata": {
        "id": "tpg5RQIw3Dr5",
        "colab_type": "code",
        "colab": {
          "base_uri": "https://localhost:8080/",
          "height": 34
        },
        "outputId": "5872bc00-8799-44a6-d3db-1907705cfa45"
      },
      "source": [
        "a='12s'\n",
        "print(a.isalpha())"
      ],
      "execution_count": 4,
      "outputs": [
        {
          "output_type": "stream",
          "text": [
            "False\n"
          ],
          "name": "stdout"
        }
      ]
    },
    {
      "cell_type": "markdown",
      "metadata": {
        "id": "m9JHi0904qgq",
        "colab_type": "text"
      },
      "source": [
        "lower() method- converts the characters to lower case "
      ]
    },
    {
      "cell_type": "code",
      "metadata": {
        "id": "tklJiLcx3Yia",
        "colab_type": "code",
        "colab": {
          "base_uri": "https://localhost:8080/",
          "height": 34
        },
        "outputId": "8c86aa6c-aa8b-4415-c119-faa657e3434c"
      },
      "source": [
        "a='Sathvika'\n",
        "print(a.lower())"
      ],
      "execution_count": 6,
      "outputs": [
        {
          "output_type": "stream",
          "text": [
            "sathvika\n"
          ],
          "name": "stdout"
        }
      ]
    },
    {
      "cell_type": "markdown",
      "metadata": {
        "id": "-P1teTiK5POT",
        "colab_type": "text"
      },
      "source": [
        "islower() method- checks if all the characters are in lower case, if yes, then shows \"True\""
      ]
    },
    {
      "cell_type": "code",
      "metadata": {
        "id": "teiiQq_m3e0i",
        "colab_type": "code",
        "colab": {
          "base_uri": "https://localhost:8080/",
          "height": 34
        },
        "outputId": "ed747860-4249-45e1-d5ff-b3c8d93a2cab"
      },
      "source": [
        "a='Gitam'\n",
        "print(a.islower())"
      ],
      "execution_count": 7,
      "outputs": [
        {
          "output_type": "stream",
          "text": [
            "False\n"
          ],
          "name": "stdout"
        }
      ]
    },
    {
      "cell_type": "markdown",
      "metadata": {
        "id": "0iWp0tSR5XGu",
        "colab_type": "text"
      },
      "source": [
        "casefold() method - Before comapring two string , this method is used to convert all the cahracters to lower case "
      ]
    },
    {
      "cell_type": "code",
      "metadata": {
        "id": "aVY80zy33wbR",
        "colab_type": "code",
        "colab": {
          "base_uri": "https://localhost:8080/",
          "height": 34
        },
        "outputId": "cd8ac71c-58f1-433e-a33f-a657ed16ccb7"
      },
      "source": [
        "a=\"GiTam UnIverSITY\"\n",
        "print(a.casefold())"
      ],
      "execution_count": 8,
      "outputs": [
        {
          "output_type": "stream",
          "text": [
            "gitam university\n"
          ],
          "name": "stdout"
        }
      ]
    },
    {
      "cell_type": "markdown",
      "metadata": {
        "id": "Jlz3AB345xVM",
        "colab_type": "text"
      },
      "source": [
        "isidentifier() method - returns bool value, it checks if you want to know if the given string is a identifier of no "
      ]
    },
    {
      "cell_type": "code",
      "metadata": {
        "id": "SYkjqEAB5nIu",
        "colab_type": "code",
        "colab": {
          "base_uri": "https://localhost:8080/",
          "height": 34
        },
        "outputId": "11eb7176-e561-4d6c-9095-fdfb58857598"
      },
      "source": [
        "a1=\"def\"\n",
        "a1.isidentifier()"
      ],
      "execution_count": 11,
      "outputs": [
        {
          "output_type": "execute_result",
          "data": {
            "text/plain": [
              "True"
            ]
          },
          "metadata": {
            "tags": []
          },
          "execution_count": 11
        }
      ]
    },
    {
      "cell_type": "markdown",
      "metadata": {
        "id": "3HUtIWEK7Txd",
        "colab_type": "text"
      },
      "source": [
        "strip() method - removes the empty space before and after the word"
      ]
    },
    {
      "cell_type": "code",
      "metadata": {
        "id": "gPZ1cYbH6fyl",
        "colab_type": "code",
        "colab": {
          "base_uri": "https://localhost:8080/",
          "height": 35
        },
        "outputId": "a9ceeae8-7b45-4a5e-c562-2b8404ad5e62"
      },
      "source": [
        "a=\"        HIII      THERE     \"\n",
        "a.strip()"
      ],
      "execution_count": 15,
      "outputs": [
        {
          "output_type": "execute_result",
          "data": {
            "application/vnd.google.colaboratory.intrinsic": {
              "type": "string"
            },
            "text/plain": [
              "'HIII      THERE'"
            ]
          },
          "metadata": {
            "tags": []
          },
          "execution_count": 15
        }
      ]
    },
    {
      "cell_type": "markdown",
      "metadata": {
        "id": "91oz98ba7l40",
        "colab_type": "text"
      },
      "source": [
        "startswith() method - Check whether the strings startswith that sting or cahracter or no (It is case sensitive)"
      ]
    },
    {
      "cell_type": "code",
      "metadata": {
        "id": "dBfdlNil7LJU",
        "colab_type": "code",
        "colab": {
          "base_uri": "https://localhost:8080/",
          "height": 34
        },
        "outputId": "7b5d00a4-84a3-4942-903e-7dec2bd60681"
      },
      "source": [
        "a=\"Have a nice day \"\n",
        "a.startswith(\"have\")"
      ],
      "execution_count": 17,
      "outputs": [
        {
          "output_type": "execute_result",
          "data": {
            "text/plain": [
              "False"
            ]
          },
          "metadata": {
            "tags": []
          },
          "execution_count": 17
        }
      ]
    },
    {
      "cell_type": "code",
      "metadata": {
        "id": "-B1U3VlV7iGJ",
        "colab_type": "code",
        "colab": {
          "base_uri": "https://localhost:8080/",
          "height": 34
        },
        "outputId": "c4e2d6eb-6f6d-47b7-dea9-727d9c159f98"
      },
      "source": [
        "a=\"bye and have a nice day\"\n",
        "a.find(\"a\")"
      ],
      "execution_count": 19,
      "outputs": [
        {
          "output_type": "execute_result",
          "data": {
            "text/plain": [
              "4"
            ]
          },
          "metadata": {
            "tags": []
          },
          "execution_count": 19
        }
      ]
    },
    {
      "cell_type": "markdown",
      "metadata": {
        "id": "KeyibcON8qUU",
        "colab_type": "text"
      },
      "source": [
        "immutability - you cannot change the pre defined strings (once it's created , you cannot alter it)"
      ]
    },
    {
      "cell_type": "code",
      "metadata": {
        "id": "AhhddeWU8TdP",
        "colab_type": "code",
        "colab": {
          "base_uri": "https://localhost:8080/",
          "height": 178
        },
        "outputId": "1e4e4149-7583-419f-f49f-46d7db5edea2"
      },
      "source": [
        "greeting='Hello, World'\n",
        "greeting[0]='K'"
      ],
      "execution_count": 23,
      "outputs": [
        {
          "output_type": "error",
          "ename": "TypeError",
          "evalue": "ignored",
          "traceback": [
            "\u001b[0;31m---------------------------------------------------------------------------\u001b[0m",
            "\u001b[0;31mTypeError\u001b[0m                                 Traceback (most recent call last)",
            "\u001b[0;32m<ipython-input-23-6b3a8f26451b>\u001b[0m in \u001b[0;36m<module>\u001b[0;34m()\u001b[0m\n\u001b[1;32m      1\u001b[0m \u001b[0mgreeting\u001b[0m\u001b[0;34m=\u001b[0m\u001b[0;34m'Hello, World'\u001b[0m\u001b[0;34m\u001b[0m\u001b[0;34m\u001b[0m\u001b[0m\n\u001b[0;32m----> 2\u001b[0;31m \u001b[0mgreeting\u001b[0m\u001b[0;34m[\u001b[0m\u001b[0;36m0\u001b[0m\u001b[0;34m]\u001b[0m\u001b[0;34m=\u001b[0m\u001b[0;34m'K'\u001b[0m\u001b[0;34m\u001b[0m\u001b[0;34m\u001b[0m\u001b[0m\n\u001b[0m",
            "\u001b[0;31mTypeError\u001b[0m: 'str' object does not support item assignment"
          ]
        }
      ]
    },
    {
      "cell_type": "code",
      "metadata": {
        "id": "7TF8xqop8xDz",
        "colab_type": "code",
        "colab": {
          "base_uri": "https://localhost:8080/",
          "height": 34
        },
        "outputId": "efe45ea6-9349-466a-b303-4484cf9a065d"
      },
      "source": [
        "new_greeting='good morning ' + greeting\n",
        "print(new_greeting)"
      ],
      "execution_count": 24,
      "outputs": [
        {
          "output_type": "stream",
          "text": [
            "good morning Hello, World\n"
          ],
          "name": "stdout"
        }
      ]
    },
    {
      "cell_type": "code",
      "metadata": {
        "id": "4gpGcdS09Y2T",
        "colab_type": "code",
        "colab": {
          "base_uri": "https://localhost:8080/",
          "height": 50
        },
        "outputId": "6f594ca4-aee5-4180-e0d3-a46ae9582db7"
      },
      "source": [
        "a=str(input(\"Enter your string\"))\n",
        "count=0\n",
        "for l in a:\n",
        "  if l=='a' or l=='e' or l=='i' or l=='o' or l=='u':\n",
        "    count+=1\n",
        "print(count)    "
      ],
      "execution_count": 28,
      "outputs": [
        {
          "output_type": "stream",
          "text": [
            "Enter your stringSathvika\n",
            "3\n"
          ],
          "name": "stdout"
        }
      ]
    },
    {
      "cell_type": "markdown",
      "metadata": {
        "id": "PlOLISIIANNg",
        "colab_type": "text"
      },
      "source": [
        " **FORMAT OPERATORS**\n",
        " # This is formatted as code \n",
        "\n",
        " %d - intergers \n",
        " %f %e %E %g - floating point \n",
        " %s - strings"
      ]
    },
    {
      "cell_type": "code",
      "metadata": {
        "id": "KoQewLkn9_2L",
        "colab_type": "code",
        "colab": {
          "base_uri": "https://localhost:8080/",
          "height": 34
        },
        "outputId": "e6835035-8cd4-45dd-ed03-288e841cc224"
      },
      "source": [
        "print(\"In %d years I have seen %g %s .\" %(10,5.9,\"increse in rain\"))"
      ],
      "execution_count": 31,
      "outputs": [
        {
          "output_type": "stream",
          "text": [
            "In 10 years I have seen 5.9 increse in rain .\n"
          ],
          "name": "stdout"
        }
      ]
    },
    {
      "cell_type": "code",
      "metadata": {
        "id": "qAWUF_EfBPsF",
        "colab_type": "code",
        "colab": {
          "base_uri": "https://localhost:8080/",
          "height": 34
        },
        "outputId": "bcf331c3-15dd-4606-86d4-67519695376e"
      },
      "source": [
        "print(\"My name is %s and i am a %s and %s.\" %(\"Sathika\",\"bitch\",\"and i am fucking dying at home\"))"
      ],
      "execution_count": 33,
      "outputs": [
        {
          "output_type": "stream",
          "text": [
            "My name is Sathika and i am a bitch and and i am fucking dying at home.\n"
          ],
          "name": "stdout"
        }
      ]
    },
    {
      "cell_type": "code",
      "metadata": {
        "id": "V-bNrXM8CY4H",
        "colab_type": "code",
        "colab": {
          "base_uri": "https://localhost:8080/",
          "height": 35
        },
        "outputId": "2b7166b9-b941-48ff-a0f3-f985675ed282"
      },
      "source": [
        "x,y=10,20\n",
        "'X value is {} Y value is {}'.format(x,y)"
      ],
      "execution_count": 34,
      "outputs": [
        {
          "output_type": "execute_result",
          "data": {
            "application/vnd.google.colaboratory.intrinsic": {
              "type": "string"
            },
            "text/plain": [
              "'X value is 10 Y value is 20'"
            ]
          },
          "metadata": {
            "tags": []
          },
          "execution_count": 34
        }
      ]
    },
    {
      "cell_type": "markdown",
      "metadata": {
        "id": "qhAkye3YEwTe",
        "colab_type": "text"
      },
      "source": [
        "It leaves the number of characters you want to leave "
      ]
    },
    {
      "cell_type": "code",
      "metadata": {
        "id": "hHemulaBD7hy",
        "colab_type": "code",
        "colab": {
          "base_uri": "https://localhost:8080/",
          "height": 50
        },
        "outputId": "f383e769-b1bb-4fa5-baf6-a6e9551d9961"
      },
      "source": [
        "s='Good morning'\n",
        "print('%25s' %s)\n",
        "print('%-25s' %s)\n"
      ],
      "execution_count": 35,
      "outputs": [
        {
          "output_type": "stream",
          "text": [
            "             Good morning\n",
            "Good morning             \n"
          ],
          "name": "stdout"
        }
      ]
    },
    {
      "cell_type": "code",
      "metadata": {
        "id": "7mcQBJQ1EqK2",
        "colab_type": "code",
        "colab": {
          "base_uri": "https://localhost:8080/",
          "height": 34
        },
        "outputId": "71f6aba4-d274-4146-9c89-98e51cab9718"
      },
      "source": [
        "x,y=8.548683,80.476469477\n",
        "print('x=%.3f  y=%.3f' %(x,y))"
      ],
      "execution_count": 38,
      "outputs": [
        {
          "output_type": "stream",
          "text": [
            "x=8.549  y=80.476\n"
          ],
          "name": "stdout"
        }
      ]
    },
    {
      "cell_type": "code",
      "metadata": {
        "id": "lA5Z6k9MFbIa",
        "colab_type": "code",
        "colab": {
          "base_uri": "https://localhost:8080/",
          "height": 67
        },
        "outputId": "9a132c2e-d3f2-4458-cbe0-ae9da4bbd4ee"
      },
      "source": [
        "s='a'\n",
        "s1=['b','a','c']\n",
        "print(s1[1]==s)\n",
        "print(s1[1] is s)\n",
        "print(s1[1])"
      ],
      "execution_count": 43,
      "outputs": [
        {
          "output_type": "stream",
          "text": [
            "True\n",
            "True\n",
            "a\n"
          ],
          "name": "stdout"
        }
      ]
    },
    {
      "cell_type": "code",
      "metadata": {
        "id": "8UrihQEHG6oC",
        "colab_type": "code",
        "colab": {
          "base_uri": "https://localhost:8080/",
          "height": 185
        },
        "outputId": "8f446c49-981b-4671-e0b8-3e30d61bb734"
      },
      "source": [
        "str=\"My isname isisis jameis isis bond\"\n",
        "sub=\"is\"\n",
        "print(str.count(sub,4))\n"
      ],
      "execution_count": 50,
      "outputs": [
        {
          "output_type": "stream",
          "text": [
            "6\n",
            "Help on built-in function count:\n",
            "\n",
            "count(...) method of builtins.str instance\n",
            "    S.count(sub[, start[, end]]) -> int\n",
            "    \n",
            "    Return the number of non-overlapping occurrences of substring sub in\n",
            "    string S[start:end].  Optional arguments start and end are\n",
            "    interpreted as in slice notation.\n",
            "\n"
          ],
          "name": "stdout"
        }
      ]
    },
    {
      "cell_type": "code",
      "metadata": {
        "id": "JDNvJ1kqHcn0",
        "colab_type": "code",
        "colab": {}
      },
      "source": [
        "z"
      ],
      "execution_count": null,
      "outputs": []
    }
  ]
}