{
  "nbformat": 4,
  "nbformat_minor": 0,
  "metadata": {
    "colab": {
      "name": "Day5.ipynb",
      "provenance": [],
      "authorship_tag": "ABX9TyPCZJt7Q6bs6FJe7cf8b7NL",
      "include_colab_link": true
    },
    "kernelspec": {
      "name": "python3",
      "display_name": "Python 3"
    }
  },
  "cells": [
    {
      "cell_type": "markdown",
      "metadata": {
        "id": "view-in-github",
        "colab_type": "text"
      },
      "source": [
        "<a href=\"https://colab.research.google.com/github/Sathvika15/Practice-programs/blob/master/Day5.ipynb\" target=\"_parent\"><img src=\"https://colab.research.google.com/assets/colab-badge.svg\" alt=\"Open In Colab\"/></a>"
      ]
    },
    {
      "cell_type": "markdown",
      "metadata": {
        "id": "PLo3Mc7nZrN2",
        "colab_type": "text"
      },
      "source": [
        "Fruitful function"
      ]
    },
    {
      "cell_type": "code",
      "metadata": {
        "id": "5cFBEVWyXMn3",
        "colab_type": "code",
        "colab": {
          "base_uri": "https://localhost:8080/",
          "height": 34
        },
        "outputId": "a902cb11-35b7-48fe-af1e-0ace985606bf"
      },
      "source": [
        "def mul(a,b):\n",
        "  c=a*b\n",
        "  return c\n",
        "result=mul(10,20)\n",
        "print(result)  "
      ],
      "execution_count": null,
      "outputs": [
        {
          "output_type": "stream",
          "text": [
            "200\n"
          ],
          "name": "stdout"
        }
      ]
    },
    {
      "cell_type": "markdown",
      "metadata": {
        "id": "BCTwmqwEaAdU",
        "colab_type": "text"
      },
      "source": [
        "Void function "
      ]
    },
    {
      "cell_type": "code",
      "metadata": {
        "id": "3ysAG-DWZ7OC",
        "colab_type": "code",
        "colab": {
          "base_uri": "https://localhost:8080/",
          "height": 34
        },
        "outputId": "4e7bada7-afef-437d-fc85-2f501fd99e77"
      },
      "source": [
        "def mul(a,b):\n",
        "  c=a*b\n",
        "  print(c)\n",
        "mul(10,30)  "
      ],
      "execution_count": null,
      "outputs": [
        {
          "output_type": "stream",
          "text": [
            "300\n"
          ],
          "name": "stdout"
        }
      ]
    },
    {
      "cell_type": "markdown",
      "metadata": {
        "id": "-CVDoYeRb9kl",
        "colab_type": "text"
      },
      "source": [
        "**DIFFERENT BUILT IN FUNCTIONS**"
      ]
    },
    {
      "cell_type": "markdown",
      "metadata": {
        "id": "rcbIu1O6bgoC",
        "colab_type": "text"
      },
      "source": [
        "Absolute function : abs()- prints positive value "
      ]
    },
    {
      "cell_type": "code",
      "metadata": {
        "id": "DQ9Lit8baJlM",
        "colab_type": "code",
        "colab": {
          "base_uri": "https://localhost:8080/",
          "height": 34
        },
        "outputId": "95986899-353e-40d5-8d4e-6e78571b17c8"
      },
      "source": [
        "a=-8\n",
        "abs(a)"
      ],
      "execution_count": null,
      "outputs": [
        {
          "output_type": "execute_result",
          "data": {
            "text/plain": [
              "8"
            ]
          },
          "metadata": {
            "tags": []
          },
          "execution_count": 4
        }
      ]
    },
    {
      "cell_type": "markdown",
      "metadata": {
        "id": "-v51552SbuAd",
        "colab_type": "text"
      },
      "source": [
        "Binary function : bin()- converst int to binary value"
      ]
    },
    {
      "cell_type": "code",
      "metadata": {
        "id": "O58J9LGAbs8H",
        "colab_type": "code",
        "colab": {
          "base_uri": "https://localhost:8080/",
          "height": 34
        },
        "outputId": "60ca6259-f66b-4398-8e3f-e243e3662e31"
      },
      "source": [
        "a=4\n",
        "bin(4)"
      ],
      "execution_count": null,
      "outputs": [
        {
          "output_type": "execute_result",
          "data": {
            "text/plain": [
              "'0b100'"
            ]
          },
          "metadata": {
            "tags": []
          },
          "execution_count": 5
        }
      ]
    },
    {
      "cell_type": "markdown",
      "metadata": {
        "id": "a0IqgHwzb2s8",
        "colab_type": "text"
      },
      "source": [
        "Boolean value : Any non-zero value is a TRUE value"
      ]
    },
    {
      "cell_type": "code",
      "metadata": {
        "id": "bxsNFYDfb1aw",
        "colab_type": "code",
        "colab": {
          "base_uri": "https://localhost:8080/",
          "height": 34
        },
        "outputId": "0d18f393-3bef-4093-bcc1-f9c66a0902d9"
      },
      "source": [
        "A=0\n",
        "bool(A)"
      ],
      "execution_count": null,
      "outputs": [
        {
          "output_type": "execute_result",
          "data": {
            "text/plain": [
              "False"
            ]
          },
          "metadata": {
            "tags": []
          },
          "execution_count": 6
        }
      ]
    },
    {
      "cell_type": "markdown",
      "metadata": {
        "id": "x_koSropcqxs",
        "colab_type": "text"
      },
      "source": [
        "any() operatore - behaves like 'or' operator"
      ]
    },
    {
      "cell_type": "code",
      "metadata": {
        "id": "300SNMq9cHov",
        "colab_type": "code",
        "colab": {
          "base_uri": "https://localhost:8080/",
          "height": 162
        },
        "outputId": "ada7668b-cda6-43f0-8070-38a9c6f6969f"
      },
      "source": [
        "any(3)"
      ],
      "execution_count": null,
      "outputs": [
        {
          "output_type": "error",
          "ename": "TypeError",
          "evalue": "ignored",
          "traceback": [
            "\u001b[0;31m---------------------------------------------------------------------------\u001b[0m",
            "\u001b[0;31mTypeError\u001b[0m                                 Traceback (most recent call last)",
            "\u001b[0;32m<ipython-input-15-3a6eb5acccdf>\u001b[0m in \u001b[0;36m<module>\u001b[0;34m()\u001b[0m\n\u001b[0;32m----> 1\u001b[0;31m \u001b[0many\u001b[0m\u001b[0;34m(\u001b[0m\u001b[0;36m3\u001b[0m\u001b[0;34m)\u001b[0m\u001b[0;34m\u001b[0m\u001b[0;34m\u001b[0m\u001b[0m\n\u001b[0m",
            "\u001b[0;31mTypeError\u001b[0m: 'set' object is not callable"
          ]
        }
      ]
    },
    {
      "cell_type": "markdown",
      "metadata": {
        "id": "5_1gmb2xdXkP",
        "colab_type": "text"
      },
      "source": [
        "all() operator - behaves like 'and' operator"
      ]
    },
    {
      "cell_type": "code",
      "metadata": {
        "colab_type": "code",
        "id": "3hSS2lkWdoyq",
        "colab": {
          "base_uri": "https://localhost:8080/",
          "height": 34
        },
        "outputId": "717f65ce-573c-48e9-bccd-97896f579a7b"
      },
      "source": [
        "all({3,4,5})"
      ],
      "execution_count": null,
      "outputs": [
        {
          "output_type": "execute_result",
          "data": {
            "text/plain": [
              "True"
            ]
          },
          "metadata": {
            "tags": []
          },
          "execution_count": 14
        }
      ]
    },
    {
      "cell_type": "code",
      "metadata": {
        "id": "zZN7QXEHdfGL",
        "colab_type": "code",
        "colab": {
          "base_uri": "https://localhost:8080/",
          "height": 162
        },
        "outputId": "effc3da0-e4f8-4476-8208-f3ed8b978ca5"
      },
      "source": [
        "any({3,4,0})"
      ],
      "execution_count": null,
      "outputs": [
        {
          "output_type": "error",
          "ename": "TypeError",
          "evalue": "ignored",
          "traceback": [
            "\u001b[0;31m---------------------------------------------------------------------------\u001b[0m",
            "\u001b[0;31mTypeError\u001b[0m                                 Traceback (most recent call last)",
            "\u001b[0;32m<ipython-input-16-0bd68a15672b>\u001b[0m in \u001b[0;36m<module>\u001b[0;34m()\u001b[0m\n\u001b[0;32m----> 1\u001b[0;31m \u001b[0many\u001b[0m\u001b[0;34m(\u001b[0m\u001b[0;34m{\u001b[0m\u001b[0;36m3\u001b[0m\u001b[0;34m,\u001b[0m\u001b[0;36m4\u001b[0m\u001b[0;34m,\u001b[0m\u001b[0;36m0\u001b[0m\u001b[0;34m}\u001b[0m\u001b[0;34m)\u001b[0m\u001b[0;34m\u001b[0m\u001b[0;34m\u001b[0m\u001b[0m\n\u001b[0m",
            "\u001b[0;31mTypeError\u001b[0m: 'set' object is not callable"
          ]
        }
      ]
    },
    {
      "cell_type": "markdown",
      "metadata": {
        "id": "r9Lfp-1pd-cC",
        "colab_type": "text"
      },
      "source": [
        "math function "
      ]
    },
    {
      "cell_type": "code",
      "metadata": {
        "id": "sgtsTIjid5-a",
        "colab_type": "code",
        "colab": {
          "base_uri": "https://localhost:8080/",
          "height": 50
        },
        "outputId": "cbb4c75c-24bd-4d76-c92f-392ec3c86c19"
      },
      "source": [
        "import math\n",
        "x=10\n",
        "y=3\n",
        "print(math.floor(x/y))\n",
        "print(math.ceil(x/y))"
      ],
      "execution_count": null,
      "outputs": [
        {
          "output_type": "stream",
          "text": [
            "3\n",
            "4\n"
          ],
          "name": "stdout"
        }
      ]
    },
    {
      "cell_type": "code",
      "metadata": {
        "id": "I-KychYHgH-_",
        "colab_type": "code",
        "colab": {
          "base_uri": "https://localhost:8080/",
          "height": 34
        },
        "outputId": "24a9d79e-1528-483e-af98-7432f1d0beee"
      },
      "source": [
        "math.gcd(2,4)"
      ],
      "execution_count": null,
      "outputs": [
        {
          "output_type": "execute_result",
          "data": {
            "text/plain": [
              "2"
            ]
          },
          "metadata": {
            "tags": []
          },
          "execution_count": 19
        }
      ]
    },
    {
      "cell_type": "markdown",
      "metadata": {
        "id": "BN3PcATGhCfB",
        "colab_type": "text"
      },
      "source": [
        "Random function "
      ]
    },
    {
      "cell_type": "markdown",
      "metadata": {
        "id": "wgZwCrcihFW-",
        "colab_type": "text"
      },
      "source": [
        "For integers - for ranges : in the bracket we need to define a starting and ending range "
      ]
    },
    {
      "cell_type": "code",
      "metadata": {
        "id": "A5t6W0TngayX",
        "colab_type": "code",
        "colab": {
          "base_uri": "https://localhost:8080/",
          "height": 34
        },
        "outputId": "c4d9a239-6550-4a73-e33f-cd4fe251d11d"
      },
      "source": [
        "import random\n",
        "random.randint(5,7)"
      ],
      "execution_count": null,
      "outputs": [
        {
          "output_type": "execute_result",
          "data": {
            "text/plain": [
              "5"
            ]
          },
          "metadata": {
            "tags": []
          },
          "execution_count": 21
        }
      ]
    },
    {
      "cell_type": "markdown",
      "metadata": {
        "id": "mzGty_oRhg8J",
        "colab_type": "text"
      },
      "source": [
        "for floating point (without range )"
      ]
    },
    {
      "cell_type": "code",
      "metadata": {
        "id": "bcAislIChdEG",
        "colab_type": "code",
        "colab": {
          "base_uri": "https://localhost:8080/",
          "height": 34
        },
        "outputId": "93a105cf-1f52-4d7f-a372-ac035b81d777"
      },
      "source": [
        "random.random()"
      ],
      "execution_count": null,
      "outputs": [
        {
          "output_type": "execute_result",
          "data": {
            "text/plain": [
              "0.6084403416947557"
            ]
          },
          "metadata": {
            "tags": []
          },
          "execution_count": 23
        }
      ]
    },
    {
      "cell_type": "markdown",
      "metadata": {
        "id": "CbK49g13h0_k",
        "colab_type": "text"
      },
      "source": [
        "(with range)-three parameters (start range,end range,skip step)"
      ]
    },
    {
      "cell_type": "code",
      "metadata": {
        "id": "9Kwv36bLhpdx",
        "colab_type": "code",
        "colab": {
          "base_uri": "https://localhost:8080/",
          "height": 34
        },
        "outputId": "fcba48b6-aa8c-466b-d063-a5978b687469"
      },
      "source": [
        "random.randrange(2,10,2)"
      ],
      "execution_count": null,
      "outputs": [
        {
          "output_type": "execute_result",
          "data": {
            "text/plain": [
              "4"
            ]
          },
          "metadata": {
            "tags": []
          },
          "execution_count": 25
        }
      ]
    },
    {
      "cell_type": "markdown",
      "metadata": {
        "id": "pEIWVpZeivDB",
        "colab_type": "text"
      },
      "source": [
        "Type conversion func"
      ]
    },
    {
      "cell_type": "code",
      "metadata": {
        "id": "wD6nhfzqiDBd",
        "colab_type": "code",
        "colab": {
          "base_uri": "https://localhost:8080/",
          "height": 34
        },
        "outputId": "7fb95ee4-c789-4005-e46c-048381ab86db"
      },
      "source": [
        "x=3\n",
        "y=float(x)\n",
        "print(y)"
      ],
      "execution_count": null,
      "outputs": [
        {
          "output_type": "stream",
          "text": [
            "3.0\n"
          ],
          "name": "stdout"
        }
      ]
    },
    {
      "cell_type": "markdown",
      "metadata": {
        "id": "8RMOQoLIlUFs",
        "colab_type": "text"
      },
      "source": [
        "EXCEPTION HANDLING "
      ]
    },
    {
      "cell_type": "code",
      "metadata": {
        "id": "-E6dX0Fci1Eb",
        "colab_type": "code",
        "colab": {
          "base_uri": "https://localhost:8080/",
          "height": 50
        },
        "outputId": "fac59392-6c70-4b55-badb-b6e5e11f9d8d"
      },
      "source": [
        "a=10\n",
        "b=0\n",
        "try:\n",
        "  c=a/b\n",
        "  c=a*b\n",
        "except:\n",
        "  print(\"Zero error\")  \n",
        "c=a*b\n",
        "print(c)  "
      ],
      "execution_count": null,
      "outputs": [
        {
          "output_type": "stream",
          "text": [
            "Zero error\n",
            "0\n"
          ],
          "name": "stdout"
        }
      ]
    },
    {
      "cell_type": "markdown",
      "metadata": {
        "id": "GSBAg4oEoO33",
        "colab_type": "text"
      },
      "source": [
        "Swapping of two numbers "
      ]
    },
    {
      "cell_type": "code",
      "metadata": {
        "id": "bm-j0k2_meJp",
        "colab_type": "code",
        "colab": {
          "base_uri": "https://localhost:8080/",
          "height": 67
        },
        "outputId": "12444ca4-b4ab-478d-b647-1136362086cb"
      },
      "source": [
        "a=int(input(\"Enter your number \"))\n",
        "b=int(input(\"Enter your second number \"))\n",
        "def swap(a,b):\n",
        "  a=a+b\n",
        "  b=a-b\n",
        "  a=a-b\n",
        "  print(a,b)\n",
        "swap(a,b)  "
      ],
      "execution_count": null,
      "outputs": [
        {
          "output_type": "stream",
          "text": [
            "Enter your number 4\n",
            "Enter your second number 5\n",
            "5 4\n"
          ],
          "name": "stdout"
        }
      ]
    },
    {
      "cell_type": "code",
      "metadata": {
        "id": "NxWFWMK7o6wZ",
        "colab_type": "code",
        "colab": {
          "base_uri": "https://localhost:8080/",
          "height": 84
        },
        "outputId": "d38c4fcc-8df2-4eb7-b5ef-833b61765618"
      },
      "source": [
        "def square(x):\n",
        "  x=x*x\n",
        "  print(x)\n",
        "  return x\n",
        "x=2\n",
        "print(x)\n",
        "print(square(x))\n",
        "print(x)  "
      ],
      "execution_count": null,
      "outputs": [
        {
          "output_type": "stream",
          "text": [
            "2\n",
            "4\n",
            "4\n",
            "2\n"
          ],
          "name": "stdout"
        }
      ]
    },
    {
      "cell_type": "code",
      "metadata": {
        "id": "n8GEPSM0qpXy",
        "colab_type": "code",
        "colab": {
          "base_uri": "https://localhost:8080/",
          "height": 67
        },
        "outputId": "631c835c-e605-4326-bb53-35f75839a003"
      },
      "source": [
        "x=50\n",
        "def fun(x):\n",
        "  print(\"x is \",x)\n",
        "  x=2\n",
        "  print(\"Changed local x to \",x)\n",
        "fun(x)\n",
        "print(\"x is now \",x)  \n",
        "\n"
      ],
      "execution_count": null,
      "outputs": [
        {
          "output_type": "stream",
          "text": [
            "x is  50\n",
            "Changed local x to  2\n",
            "x is now  50\n"
          ],
          "name": "stdout"
        }
      ]
    },
    {
      "cell_type": "code",
      "metadata": {
        "id": "CJO63hoKrMZI",
        "colab_type": "code",
        "colab": {}
      },
      "source": [
        ""
      ],
      "execution_count": null,
      "outputs": []
    }
  ]
}