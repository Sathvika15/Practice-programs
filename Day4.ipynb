{
  "nbformat": 4,
  "nbformat_minor": 0,
  "metadata": {
    "colab": {
      "name": "Day4.ipynb",
      "provenance": [],
      "collapsed_sections": [],
      "authorship_tag": "ABX9TyOg+mCbsO6Z8ye8CjoSUJAQ",
      "include_colab_link": true
    },
    "kernelspec": {
      "name": "python3",
      "display_name": "Python 3"
    }
  },
  "cells": [
    {
      "cell_type": "markdown",
      "metadata": {
        "id": "view-in-github",
        "colab_type": "text"
      },
      "source": [
        "<a href=\"https://colab.research.google.com/github/Sathvika15/Practice-programs/blob/master/Day4.ipynb\" target=\"_parent\"><img src=\"https://colab.research.google.com/assets/colab-badge.svg\" alt=\"Open In Colab\"/></a>"
      ]
    },
    {
      "cell_type": "markdown",
      "metadata": {
        "id": "E_1kMq44PfgH",
        "colab_type": "text"
      },
      "source": [
        "Short circuit evaluation of logical operator (Multiple chain expression)"
      ]
    },
    {
      "cell_type": "code",
      "metadata": {
        "id": "YBMv31x-I1Jf",
        "colab_type": "code",
        "colab": {
          "base_uri": "https://localhost:8080/",
          "height": 34
        },
        "outputId": "ce23bd4b-e808-4382-da13-6892fe76edbc"
      },
      "source": [
        "x=5\n",
        "y=3\n",
        "x>y and y!=0 and x<0"
      ],
      "execution_count": 1,
      "outputs": [
        {
          "output_type": "execute_result",
          "data": {
            "text/plain": [
              "False"
            ]
          },
          "metadata": {
            "tags": []
          },
          "execution_count": 1
        }
      ]
    },
    {
      "cell_type": "code",
      "metadata": {
        "id": "yg6vq9xlPqda",
        "colab_type": "code",
        "colab": {
          "base_uri": "https://localhost:8080/",
          "height": 34
        },
        "outputId": "9059686c-7670-4f4c-d789-9a3f533c788e"
      },
      "source": [
        "x=5\n",
        "y=3\n",
        "x>y and y!=0 and x>0"
      ],
      "execution_count": 2,
      "outputs": [
        {
          "output_type": "execute_result",
          "data": {
            "text/plain": [
              "True"
            ]
          },
          "metadata": {
            "tags": []
          },
          "execution_count": 2
        }
      ]
    },
    {
      "cell_type": "markdown",
      "metadata": {
        "id": "LA9LsCvERdJp",
        "colab_type": "text"
      },
      "source": [
        "FUNCTIONS "
      ]
    },
    {
      "cell_type": "code",
      "metadata": {
        "id": "jfNwRZv1TB-_",
        "colab_type": "code",
        "colab": {}
      },
      "source": [
        "SYNTAX \n",
        "def functionname(arguments):\n",
        "  Statements"
      ],
      "execution_count": null,
      "outputs": []
    },
    {
      "cell_type": "code",
      "metadata": {
        "id": "uFiTD02CQU4b",
        "colab_type": "code",
        "colab": {
          "base_uri": "https://localhost:8080/",
          "height": 34
        },
        "outputId": "434a3877-7392-4e47-9ec3-aad9f71983ae"
      },
      "source": [
        "def greeting(Name):\n",
        "  print(\"Welcome \",Name)\n",
        "greeting(\"Hemanth \")"
      ],
      "execution_count": 6,
      "outputs": [
        {
          "output_type": "stream",
          "text": [
            "Welcome  Hemanth \n"
          ],
          "name": "stdout"
        }
      ]
    },
    {
      "cell_type": "code",
      "metadata": {
        "id": "p0B0efMvTtml",
        "colab_type": "code",
        "colab": {
          "base_uri": "https://localhost:8080/",
          "height": 34
        },
        "outputId": "5dcdf5b8-342c-4c89-b765-1736d01cf5db"
      },
      "source": [
        "greeting(\"Sathvika \")"
      ],
      "execution_count": 4,
      "outputs": [
        {
          "output_type": "stream",
          "text": [
            "Welcome  Sathvika \n"
          ],
          "name": "stdout"
        }
      ]
    },
    {
      "cell_type": "code",
      "metadata": {
        "id": "TuM5-m0tUUNU",
        "colab_type": "code",
        "colab": {
          "base_uri": "https://localhost:8080/",
          "height": 34
        },
        "outputId": "126b233e-c62d-4920-921b-ab33435bfedb"
      },
      "source": [
        "def Student(Name,marks):\n",
        "  print(\"My name is \",Name,\" I got \",marks,\" in Maths\")\n",
        "Student(\"Sathvika\",89)  "
      ],
      "execution_count": 7,
      "outputs": [
        {
          "output_type": "stream",
          "text": [
            "My name is  Sathvika  I got  89  in Maths\n"
          ],
          "name": "stdout"
        }
      ]
    },
    {
      "cell_type": "markdown",
      "metadata": {
        "id": "uwMJdnSCV9nF",
        "colab_type": "text"
      },
      "source": [
        "Using \"return\" statement"
      ]
    },
    {
      "cell_type": "code",
      "metadata": {
        "id": "d7vttHn-VSS4",
        "colab_type": "code",
        "colab": {
          "base_uri": "https://localhost:8080/",
          "height": 34
        },
        "outputId": "9bae1927-43eb-4394-822a-13d5f3962f5e"
      },
      "source": [
        "def add(a,b):\n",
        "  c=a+b\n",
        "  print(c)\n",
        "add(3,7)  "
      ],
      "execution_count": 8,
      "outputs": [
        {
          "output_type": "stream",
          "text": [
            "The value of c is  10\n"
          ],
          "name": "stdout"
        }
      ]
    },
    {
      "cell_type": "markdown",
      "metadata": {
        "id": "2_e5TQjDWo9g",
        "colab_type": "text"
      },
      "source": [
        "can be written as"
      ]
    },
    {
      "cell_type": "code",
      "metadata": {
        "id": "6Iq1YszQWOOG",
        "colab_type": "code",
        "colab": {
          "base_uri": "https://localhost:8080/",
          "height": 34
        },
        "outputId": "88810a42-74b6-4fd6-8d26-2cd728cd4e3f"
      },
      "source": [
        "def add(a,b):\n",
        "  return a+b\n",
        "Total=add(5,7)\n",
        "print(Total)"
      ],
      "execution_count": 11,
      "outputs": [
        {
          "output_type": "stream",
          "text": [
            "12\n"
          ],
          "name": "stdout"
        }
      ]
    },
    {
      "cell_type": "code",
      "metadata": {
        "id": "ExwULfr9W17d",
        "colab_type": "code",
        "colab": {
          "base_uri": "https://localhost:8080/",
          "height": 34
        },
        "outputId": "cbb16b0c-1190-4396-ae23-90fbd7ebe24a"
      },
      "source": [
        "def greatest(a,b):\n",
        "  if a>b:\n",
        "    return a\n",
        "  else:\n",
        "    return b\n",
        "greatest(4,7)      "
      ],
      "execution_count": 13,
      "outputs": [
        {
          "output_type": "execute_result",
          "data": {
            "text/plain": [
              "7"
            ]
          },
          "metadata": {
            "tags": []
          },
          "execution_count": 13
        }
      ]
    },
    {
      "cell_type": "markdown",
      "metadata": {
        "id": "9V_C8UQZkrWe",
        "colab_type": "text"
      },
      "source": [
        "**FOUR TYPES OF ARGUMENTS**"
      ]
    },
    {
      "cell_type": "markdown",
      "metadata": {
        "id": "1bvOr6i8eCeY",
        "colab_type": "text"
      },
      "source": [
        "REQUIRED ARGUMENT"
      ]
    },
    {
      "cell_type": "code",
      "metadata": {
        "id": "ZDEGP-qtZVyP",
        "colab_type": "code",
        "colab": {
          "base_uri": "https://localhost:8080/",
          "height": 34
        },
        "outputId": "e5f1ff0d-61c3-4536-a442-207cda3c4c7d"
      },
      "source": [
        "def Student(Name):\n",
        "  print(\"Student name is \",Name)\n",
        "Student(\"Sathvika\")  "
      ],
      "execution_count": 14,
      "outputs": [
        {
          "output_type": "stream",
          "text": [
            "Student name is  Sathvika\n"
          ],
          "name": "stdout"
        }
      ]
    },
    {
      "cell_type": "markdown",
      "metadata": {
        "id": "IJp2U4W6h6S9",
        "colab_type": "text"
      },
      "source": [
        "KEYWORD ARGUMENT"
      ]
    },
    {
      "cell_type": "code",
      "metadata": {
        "id": "S_cBNzlJh8UD",
        "colab_type": "code",
        "colab": {
          "base_uri": "https://localhost:8080/",
          "height": 50
        },
        "outputId": "75f8b23a-b7af-42e1-c9cb-1da63b1fb80e"
      },
      "source": [
        "def Faculty(Name,dept):\n",
        "  print(\"Name of the faculty is \",Name)\n",
        "  print(\"The dept is \",dept)\n",
        "Faculty(\"Geetha\",\"CSE\")  "
      ],
      "execution_count": 20,
      "outputs": [
        {
          "output_type": "stream",
          "text": [
            "Name of the faculty is  Geetha\n",
            "The dept is  CSE\n"
          ],
          "name": "stdout"
        }
      ]
    },
    {
      "cell_type": "markdown",
      "metadata": {
        "id": "FTJCqSGsigVS",
        "colab_type": "text"
      },
      "source": [
        "DEFAULT ARGUMENT"
      ]
    },
    {
      "cell_type": "code",
      "metadata": {
        "id": "-PTV1LCZiytT",
        "colab_type": "code",
        "colab": {
          "base_uri": "https://localhost:8080/",
          "height": 50
        },
        "outputId": "27f2c64f-d19e-4498-9cb7-c3f4954ca4d9"
      },
      "source": [
        "def Faculty(Name,dept=\"CSE\"):\n",
        "  print(\"Name of the faculty is \",Name)\n",
        "  print(\"The dept is \",dept)\n",
        "Faculty(\"Geetha\")  "
      ],
      "execution_count": 25,
      "outputs": [
        {
          "output_type": "stream",
          "text": [
            "Name of the faculty is  Geetha\n",
            "The dept is  CSE\n"
          ],
          "name": "stdout"
        }
      ]
    },
    {
      "cell_type": "markdown",
      "metadata": {
        "id": "jALT4TUDeEfn",
        "colab_type": "text"
      },
      "source": [
        "VARIABLE - LENGTH  ARGUEMNT"
      ]
    },
    {
      "cell_type": "code",
      "metadata": {
        "id": "e-InJLhxd-ms",
        "colab_type": "code",
        "colab": {
          "base_uri": "https://localhost:8080/",
          "height": 101
        },
        "outputId": "0ac06362-1e44-4663-e2e3-7d942eccde0a"
      },
      "source": [
        "def number(n,*v_tuple):\n",
        "  for var in v_tuple:\n",
        "    print(var)\n",
        "number(10,29,30,50,65,60)    \n",
        "\n"
      ],
      "execution_count": 17,
      "outputs": [
        {
          "output_type": "stream",
          "text": [
            "29\n",
            "30\n",
            "50\n",
            "65\n",
            "60\n"
          ],
          "name": "stdout"
        }
      ]
    },
    {
      "cell_type": "code",
      "metadata": {
        "id": "9TWPfv3ugUQo",
        "colab_type": "code",
        "colab": {}
      },
      "source": [
        ""
      ],
      "execution_count": null,
      "outputs": []
    }
  ]
}