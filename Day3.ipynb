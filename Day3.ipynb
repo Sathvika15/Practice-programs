{
  "nbformat": 4,
  "nbformat_minor": 0,
  "metadata": {
    "colab": {
      "name": "Day3.ipynb",
      "provenance": [],
      "collapsed_sections": [],
      "authorship_tag": "ABX9TyOE6Ma9UEr7ZMT2Q6dmCaxO",
      "include_colab_link": true
    },
    "kernelspec": {
      "name": "python3",
      "display_name": "Python 3"
    }
  },
  "cells": [
    {
      "cell_type": "markdown",
      "metadata": {
        "id": "view-in-github",
        "colab_type": "text"
      },
      "source": [
        "<a href=\"https://colab.research.google.com/github/Sathvika15/Practice-programs/blob/master/Day3.ipynb\" target=\"_parent\"><img src=\"https://colab.research.google.com/assets/colab-badge.svg\" alt=\"Open In Colab\"/></a>"
      ]
    },
    {
      "cell_type": "markdown",
      "metadata": {
        "id": "wbRi1k2J7yIo",
        "colab_type": "text"
      },
      "source": [
        "COMPARISION OPERATOR\n",
        "\n",
        "> BOOLEAN EXPRESSIONS\n",
        "\n"
      ]
    },
    {
      "cell_type": "code",
      "metadata": {
        "id": "efbwf2zT3NJs",
        "colab_type": "code",
        "colab": {
          "base_uri": "https://localhost:8080/",
          "height": 34
        },
        "outputId": "3203b99a-bb30-4115-929f-1e452e289a07"
      },
      "source": [
        "a=50\n",
        "b=3\n",
        "a>b"
      ],
      "execution_count": null,
      "outputs": [
        {
          "output_type": "execute_result",
          "data": {
            "text/plain": [
              "True"
            ]
          },
          "metadata": {
            "tags": []
          },
          "execution_count": 2
        }
      ]
    },
    {
      "cell_type": "code",
      "metadata": {
        "id": "DEWECpMj3dc4",
        "colab_type": "code",
        "colab": {
          "base_uri": "https://localhost:8080/",
          "height": 34
        },
        "outputId": "674b14b6-1251-44e5-c44b-73ea01fc69a5"
      },
      "source": [
        "a=3\n",
        "y=5\n",
        "a==y"
      ],
      "execution_count": null,
      "outputs": [
        {
          "output_type": "execute_result",
          "data": {
            "text/plain": [
              "False"
            ]
          },
          "metadata": {
            "tags": []
          },
          "execution_count": 4
        }
      ]
    },
    {
      "cell_type": "markdown",
      "metadata": {
        "id": "xKHCWrM48KZX",
        "colab_type": "text"
      },
      "source": [
        "LOGICAL OPERATORS"
      ]
    },
    {
      "cell_type": "markdown",
      "metadata": {
        "id": "gy-nzz7F9dxg",
        "colab_type": "text"
      },
      "source": [
        "and - Both have to true then only you will get ture or else false "
      ]
    },
    {
      "cell_type": "markdown",
      "metadata": {
        "id": "x6sM_R_P9kFQ",
        "colab_type": "text"
      },
      "source": [
        ""
      ]
    },
    {
      "cell_type": "code",
      "metadata": {
        "id": "JoAlEsOq75MK",
        "colab_type": "code",
        "colab": {
          "base_uri": "https://localhost:8080/",
          "height": 34
        },
        "outputId": "e646f382-f98d-4da1-90ab-e8db6ef03d1d"
      },
      "source": [
        "A=10\n",
        "B=5\n",
        "C=6\n",
        "A>B and A>C"
      ],
      "execution_count": null,
      "outputs": [
        {
          "output_type": "execute_result",
          "data": {
            "text/plain": [
              "True"
            ]
          },
          "metadata": {
            "tags": []
          },
          "execution_count": 6
        }
      ]
    },
    {
      "cell_type": "code",
      "metadata": {
        "id": "-WH80iS_9siJ",
        "colab_type": "code",
        "colab": {
          "base_uri": "https://localhost:8080/",
          "height": 34
        },
        "outputId": "7a7924c5-b81a-48f3-a2ac-711e18dd9a0c"
      },
      "source": [
        "A=10\n",
        "B=5\n",
        "C=6\n",
        "A<B and A<C"
      ],
      "execution_count": null,
      "outputs": [
        {
          "output_type": "execute_result",
          "data": {
            "text/plain": [
              "False"
            ]
          },
          "metadata": {
            "tags": []
          },
          "execution_count": 7
        }
      ]
    },
    {
      "cell_type": "markdown",
      "metadata": {
        "id": "Zyeo5nC79fFb",
        "colab_type": "text"
      },
      "source": [
        "or - Either one of the expression os true it is true "
      ]
    },
    {
      "cell_type": "code",
      "metadata": {
        "id": "TxwYoWZU9HiU",
        "colab_type": "code",
        "colab": {
          "base_uri": "https://localhost:8080/",
          "height": 34
        },
        "outputId": "6e9dda7d-c7e6-4c3b-8556-a8b2764ab93d"
      },
      "source": [
        "x=5\n",
        "y=1\n",
        "z=7\n",
        "x>y or x<z"
      ],
      "execution_count": null,
      "outputs": [
        {
          "output_type": "execute_result",
          "data": {
            "text/plain": [
              "True"
            ]
          },
          "metadata": {
            "tags": []
          },
          "execution_count": 9
        }
      ]
    },
    {
      "cell_type": "markdown",
      "metadata": {
        "id": "TE7hGtYG98h7",
        "colab_type": "text"
      },
      "source": [
        "not operator - It shows the opposite value of the actual value "
      ]
    },
    {
      "cell_type": "code",
      "metadata": {
        "id": "4-iQYUWF93Dx",
        "colab_type": "code",
        "colab": {
          "base_uri": "https://localhost:8080/",
          "height": 34
        },
        "outputId": "3f10e270-5a43-4b0b-9667-9771b5933c97"
      },
      "source": [
        "x=10\n",
        "y=5\n",
        "not x>y"
      ],
      "execution_count": null,
      "outputs": [
        {
          "output_type": "execute_result",
          "data": {
            "text/plain": [
              "False"
            ]
          },
          "metadata": {
            "tags": []
          },
          "execution_count": 10
        }
      ]
    },
    {
      "cell_type": "markdown",
      "metadata": {
        "id": "48mxjsR5-czI",
        "colab_type": "text"
      },
      "source": [
        "Conditional execution "
      ]
    },
    {
      "cell_type": "markdown",
      "metadata": {
        "id": "n4O5X5wD_u8O",
        "colab_type": "text"
      },
      "source": [
        "1. if \n",
        "Sytax :   if condition:\n",
        "           executable statement(written after leaving a gab)"
      ]
    },
    {
      "cell_type": "code",
      "metadata": {
        "id": "lrB51r3v-CYR",
        "colab_type": "code",
        "colab": {
          "base_uri": "https://localhost:8080/",
          "height": 34
        },
        "outputId": "06c1148f-7519-4da1-b6aa-834651bc0e07"
      },
      "source": [
        "x=10\n",
        "if x>5:\n",
        "  print('yes')"
      ],
      "execution_count": null,
      "outputs": [
        {
          "output_type": "stream",
          "text": [
            "yes\n"
          ],
          "name": "stdout"
        }
      ]
    },
    {
      "cell_type": "markdown",
      "metadata": {
        "id": "9uhjr3qPA1Qc",
        "colab_type": "text"
      },
      "source": [
        "2. if-else (else starts from begining of the line again)"
      ]
    },
    {
      "cell_type": "markdown",
      "metadata": {
        "id": "3jYVnm2CBrVm",
        "colab_type": "text"
      },
      "source": [
        "SYNTAX : \n",
        "        if condition:\n",
        "          Statement (everthing has to be written after the gap then only it will come under 'if'- called as intentation)\n",
        "\n",
        "\n",
        "        else:\n",
        "          Statement "
      ]
    },
    {
      "cell_type": "code",
      "metadata": {
        "id": "ISY2FXO_ARfM",
        "colab_type": "code",
        "colab": {
          "base_uri": "https://localhost:8080/",
          "height": 34
        },
        "outputId": "4e0cdfa0-1f0d-4213-b559-0ad50534b0a0"
      },
      "source": [
        "x=15\n",
        "if x>100:\n",
        "  print('False')\n",
        "else:\n",
        "  print('True')  "
      ],
      "execution_count": null,
      "outputs": [
        {
          "output_type": "stream",
          "text": [
            "True\n"
          ],
          "name": "stdout"
        }
      ]
    },
    {
      "cell_type": "code",
      "metadata": {
        "id": "tk49qd1IBRXt",
        "colab_type": "code",
        "colab": {
          "base_uri": "https://localhost:8080/",
          "height": 50
        },
        "outputId": "c4a7a2ea-4ec2-4dab-b8f4-1443bba7548a"
      },
      "source": [
        "a=int(input(\" Enter your age \"))\n",
        "if a>=18:\n",
        "  print(\"Eligible for voting \")\n",
        "else:\n",
        "  print(\" Not eligible for voting \")  "
      ],
      "execution_count": null,
      "outputs": [
        {
          "output_type": "stream",
          "text": [
            " Enter your age 20\n",
            "Eligible for voting \n"
          ],
          "name": "stdout"
        }
      ]
    },
    {
      "cell_type": "markdown",
      "metadata": {
        "id": "GYVvJB7LDTeP",
        "colab_type": "text"
      },
      "source": [
        "3.  if else-if else (else if is given as **elif**) \n",
        "**ALSO KNOWN AS CHAIN CONDITONAL STATEMENT**\n",
        "\n",
        "Syntax: \n",
        "if condition:\n",
        "  executable statement\n",
        "elif condition:\n",
        "  executable statement \n",
        "else:\n",
        "  executable statement "
      ]
    },
    {
      "cell_type": "code",
      "metadata": {
        "id": "SJPXu3jUCzR-",
        "colab_type": "code",
        "colab": {
          "base_uri": "https://localhost:8080/",
          "height": 50
        },
        "outputId": "c2649771-16b0-4a89-8e85-f3a798e8d9b6"
      },
      "source": [
        "a=int(input(\"Enter a number \"))\n",
        "if a==0:\n",
        "  print(\"The number is zero \")\n",
        "elif a>0:\n",
        "  print(\"The number is positive \")\n",
        "else:\n",
        "  print(\"The number is negative \")    "
      ],
      "execution_count": null,
      "outputs": [
        {
          "output_type": "stream",
          "text": [
            "Enter a number 3\n",
            "The number is positive \n"
          ],
          "name": "stdout"
        }
      ]
    },
    {
      "cell_type": "markdown",
      "metadata": {
        "id": "LhGC5FfjK0_m",
        "colab_type": "text"
      },
      "source": [
        "NESTED IF-ELSE CONDITIONS"
      ]
    },
    {
      "cell_type": "code",
      "metadata": {
        "id": "1ckVnOLfH3Zp",
        "colab_type": "code",
        "colab": {
          "base_uri": "https://localhost:8080/",
          "height": 50
        },
        "outputId": "6a1ffc4f-2184-4b4a-b3c2-79859f62c7ea"
      },
      "source": [
        "a=int(input(\"Enter the number\"))\n",
        "if a==0:\n",
        "  print(\"The number is zero\")\n",
        "else:\n",
        "  if a%2==0:\n",
        "    print(\"The number is even\")\n",
        "  else:\n",
        "    print(\"The number is odd\")    "
      ],
      "execution_count": null,
      "outputs": [
        {
          "output_type": "stream",
          "text": [
            "Enter the number4\n",
            "The number is even\n"
          ],
          "name": "stdout"
        }
      ]
    },
    {
      "cell_type": "code",
      "metadata": {
        "id": "ys31furJNYUF",
        "colab_type": "code",
        "colab": {}
      },
      "source": [
        ""
      ],
      "execution_count": null,
      "outputs": []
    }
  ]
}