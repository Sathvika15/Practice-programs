{
  "nbformat": 4,
  "nbformat_minor": 0,
  "metadata": {
    "colab": {
      "name": "Practice.ipynb",
      "provenance": [],
      "collapsed_sections": [],
      "authorship_tag": "ABX9TyPn55SHBd5thW2cyvB0Nd7o",
      "include_colab_link": true
    },
    "kernelspec": {
      "name": "python3",
      "display_name": "Python 3"
    }
  },
  "cells": [
    {
      "cell_type": "markdown",
      "metadata": {
        "id": "view-in-github",
        "colab_type": "text"
      },
      "source": [
        "<a href=\"https://colab.research.google.com/github/Sathvika15/Practice-programs/blob/master/Practice.ipynb\" target=\"_parent\"><img src=\"https://colab.research.google.com/assets/colab-badge.svg\" alt=\"Open In Colab\"/></a>"
      ]
    },
    {
      "cell_type": "code",
      "metadata": {
        "id": "fCOeIBjr8sjj",
        "colab_type": "code",
        "colab": {
          "base_uri": "https://localhost:8080/",
          "height": 84
        },
        "outputId": "c1049d93-2bf1-479c-9a36-53a306e3be08"
      },
      "source": [
        "import math\n",
        "a=float(input(\"Enter the value of a \"))\n",
        "b=float(input(\"Enter the value of b \"))\n",
        "c=float(input(\"Enter the value of c \"))\n",
        "dis=(b*b)-(4*a*c)\n",
        "if dis>0:\n",
        "  r1=(-b-math.sqrt(dis))/(2*a)\n",
        "  r2=(-b+math.sqrt(dis))/(2*a)\n",
        "  print(\"The roots of the equation are unequal and the roots are \",r1,r2)\n",
        "elif dis<0:\n",
        "  realpt=(-b)/(2*a)\n",
        "  imgpt=(math.sqrt(-dis))/(2*a) \n",
        "  print(\"The roots are imaginary and the roots are \",realpt,imgpt) \n",
        "else:\n",
        "  r1=r2=(-b)/(2*a)\n",
        "  print(\"The roots are equal and the roots are \",r1,r2)  \n"
      ],
      "execution_count": null,
      "outputs": [
        {
          "output_type": "stream",
          "text": [
            "Enter the value of a 1\n",
            "Enter the value of b 4\n",
            "Enter the value of c 4\n",
            "The roots are equal and the roots are  -2.0 -2.0\n"
          ],
          "name": "stdout"
        }
      ]
    },
    {
      "cell_type": "markdown",
      "metadata": {
        "id": "ejNMRjBtNP4_",
        "colab_type": "text"
      },
      "source": [
        "PRIME NUMBER"
      ]
    },
    {
      "cell_type": "code",
      "metadata": {
        "id": "hAdcECy7-zMg",
        "colab_type": "code",
        "colab": {}
      },
      "source": [
        "n=int(input(\"Enter the number you want to check \"))\n",
        "if n>1:  \n",
        "   for i in range(2,n):  \n",
        "       if(n%i)==0:  \n",
        "           print(\"The number is not a prime number\")  \n",
        "           break  \n",
        "   else:  \n",
        "       print(n,\"is a prime number\")  \n",
        "else:  \n",
        "   print(n,\"is not a prime number\")  \n",
        " "
      ],
      "execution_count": null,
      "outputs": []
    }
  ]
}