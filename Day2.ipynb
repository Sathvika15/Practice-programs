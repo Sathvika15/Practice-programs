{
  "nbformat": 4,
  "nbformat_minor": 0,
  "metadata": {
    "colab": {
      "name": "Day2.ipynb",
      "provenance": [],
      "authorship_tag": "ABX9TyMfNBnBq/H85jC83rrolUcp",
      "include_colab_link": true
    },
    "kernelspec": {
      "name": "python3",
      "display_name": "Python 3"
    }
  },
  "cells": [
    {
      "cell_type": "markdown",
      "metadata": {
        "id": "view-in-github",
        "colab_type": "text"
      },
      "source": [
        "<a href=\"https://colab.research.google.com/github/Sathvika15/Practice-programs/blob/master/Day2.ipynb\" target=\"_parent\"><img src=\"https://colab.research.google.com/assets/colab-badge.svg\" alt=\"Open In Colab\"/></a>"
      ]
    },
    {
      "cell_type": "markdown",
      "metadata": {
        "id": "t4U5-afExkd0",
        "colab_type": "text"
      },
      "source": [
        "Dynamically typed language (one of the feature of python)"
      ]
    },
    {
      "cell_type": "code",
      "metadata": {
        "id": "PH26idP-wUhZ",
        "colab_type": "code",
        "colab": {
          "base_uri": "https://localhost:8080/",
          "height": 67
        },
        "outputId": "9de4fe5e-6407-4777-c2c8-007a228110d6"
      },
      "source": [
        "a=10\n",
        "print(a,type(a))\n",
        "a=3.4\n",
        "print(a,type(a))\n",
        "a=\"2\"\n",
        "print(a,type(a))"
      ],
      "execution_count": 3,
      "outputs": [
        {
          "output_type": "stream",
          "text": [
            "10 <class 'int'>\n",
            "3.4 <class 'float'>\n",
            "2 <class 'str'>\n"
          ],
          "name": "stdout"
        }
      ]
    },
    {
      "cell_type": "markdown",
      "metadata": {
        "id": "bBzmkrk3yV4h",
        "colab_type": "text"
      },
      "source": [
        "DIFFERENT DATATYPES "
      ]
    },
    {
      "cell_type": "markdown",
      "metadata": {
        "id": "3wDzO6LyyZsM",
        "colab_type": "text"
      },
      "source": [
        "1. complex datatype , bool data type "
      ]
    },
    {
      "cell_type": "code",
      "metadata": {
        "id": "hnOBySI9x5uW",
        "colab_type": "code",
        "colab": {
          "base_uri": "https://localhost:8080/",
          "height": 195
        },
        "outputId": "5f695f79-d711-4aaf-82f4-bab363229d98"
      },
      "source": [
        "c=5+3j\n",
        "d=int(c)\n",
        "print(c,type(c))\n"
      ],
      "execution_count": 16,
      "outputs": [
        {
          "output_type": "error",
          "ename": "TypeError",
          "evalue": "ignored",
          "traceback": [
            "\u001b[0;31m---------------------------------------------------------------------------\u001b[0m",
            "\u001b[0;31mTypeError\u001b[0m                                 Traceback (most recent call last)",
            "\u001b[0;32m<ipython-input-16-54988d865566>\u001b[0m in \u001b[0;36m<module>\u001b[0;34m()\u001b[0m\n\u001b[1;32m      1\u001b[0m \u001b[0mc\u001b[0m\u001b[0;34m=\u001b[0m\u001b[0;36m5\u001b[0m\u001b[0;34m+\u001b[0m\u001b[0;36m3j\u001b[0m\u001b[0;34m\u001b[0m\u001b[0;34m\u001b[0m\u001b[0m\n\u001b[0;32m----> 2\u001b[0;31m \u001b[0md\u001b[0m\u001b[0;34m=\u001b[0m\u001b[0mint\u001b[0m\u001b[0;34m(\u001b[0m\u001b[0mc\u001b[0m\u001b[0;34m)\u001b[0m\u001b[0;34m\u001b[0m\u001b[0;34m\u001b[0m\u001b[0m\n\u001b[0m\u001b[1;32m      3\u001b[0m \u001b[0mprint\u001b[0m\u001b[0;34m(\u001b[0m\u001b[0mc\u001b[0m\u001b[0;34m,\u001b[0m\u001b[0mtype\u001b[0m\u001b[0;34m(\u001b[0m\u001b[0mc\u001b[0m\u001b[0;34m)\u001b[0m\u001b[0;34m)\u001b[0m\u001b[0;34m\u001b[0m\u001b[0;34m\u001b[0m\u001b[0m\n",
            "\u001b[0;31mTypeError\u001b[0m: can't convert complex to int"
          ]
        }
      ]
    },
    {
      "cell_type": "code",
      "metadata": {
        "id": "sPWB66wayltv",
        "colab_type": "code",
        "colab": {
          "base_uri": "https://localhost:8080/",
          "height": 67
        },
        "outputId": "afa91b2e-8295-488d-9869-53ed6de5c8a0"
      },
      "source": [
        "a=15+3j\n",
        "b=10+1j\n",
        "print(a-b)\n",
        "print(a/b)\n",
        "print(a*b)\n"
      ],
      "execution_count": 5,
      "outputs": [
        {
          "output_type": "stream",
          "text": [
            "(5+2j)\n",
            "(1.5148514851485149+0.1485148514851485j)\n",
            "(147+45j)\n"
          ],
          "name": "stdout"
        }
      ]
    },
    {
      "cell_type": "code",
      "metadata": {
        "id": "mzKJk-kszGis",
        "colab_type": "code",
        "colab": {
          "base_uri": "https://localhost:8080/",
          "height": 50
        },
        "outputId": "62e3f263-7095-4b68-c359-c66d0f68275e"
      },
      "source": [
        "b1=True\n",
        "b2=False \n",
        "print(b1,type(b1))\n",
        "print(b2,type(b2))"
      ],
      "execution_count": 6,
      "outputs": [
        {
          "output_type": "stream",
          "text": [
            "True <class 'bool'>\n",
            "False <class 'bool'>\n"
          ],
          "name": "stdout"
        }
      ]
    },
    {
      "cell_type": "markdown",
      "metadata": {
        "id": "LcCYkV_kzcoC",
        "colab_type": "text"
      },
      "source": [
        "LOGICAL OPERATORS "
      ]
    },
    {
      "cell_type": "code",
      "metadata": {
        "id": "tfGpBuA0zgjT",
        "colab_type": "code",
        "colab": {
          "base_uri": "https://localhost:8080/",
          "height": 34
        },
        "outputId": "d05b4ba4-9c48-451e-cdc2-caf975d2297c"
      },
      "source": [
        "2==2"
      ],
      "execution_count": 7,
      "outputs": [
        {
          "output_type": "execute_result",
          "data": {
            "text/plain": [
              "True"
            ]
          },
          "metadata": {
            "tags": []
          },
          "execution_count": 7
        }
      ]
    },
    {
      "cell_type": "code",
      "metadata": {
        "id": "TXHAC-GkzXzs",
        "colab_type": "code",
        "colab": {
          "base_uri": "https://localhost:8080/",
          "height": 34
        },
        "outputId": "000e4fda-2ffe-4c56-84e7-d4396eed37b0"
      },
      "source": [
        "a=10<5\n",
        "print(a)\n"
      ],
      "execution_count": 10,
      "outputs": [
        {
          "output_type": "stream",
          "text": [
            "False\n"
          ],
          "name": "stdout"
        }
      ]
    },
    {
      "cell_type": "markdown",
      "metadata": {
        "id": "YrWp4WJBz8UP",
        "colab_type": "text"
      },
      "source": [
        "TYPE CONVERSION"
      ]
    },
    {
      "cell_type": "code",
      "metadata": {
        "id": "7d1gC4h7zp50",
        "colab_type": "code",
        "colab": {
          "base_uri": "https://localhost:8080/",
          "height": 50
        },
        "outputId": "8a60be69-cde3-4ac4-a675-4123d8798c92"
      },
      "source": [
        "X=5\n",
        "Y=float(X)\n",
        "print(X,type(X))\n",
        "print(Y,type(Y))"
      ],
      "execution_count": 14,
      "outputs": [
        {
          "output_type": "stream",
          "text": [
            "5 <class 'int'>\n",
            "5.0 <class 'float'>\n"
          ],
          "name": "stdout"
        }
      ]
    },
    {
      "cell_type": "code",
      "metadata": {
        "id": "tp22bE1-0HkB",
        "colab_type": "code",
        "colab": {
          "base_uri": "https://localhost:8080/",
          "height": 50
        },
        "outputId": "204feb11-b36c-4757-8d67-3bc908f9bf8f"
      },
      "source": [
        "X=5.5\n",
        "Y=int(X)\n",
        "print(X,type(X))\n",
        "print(Y,type(Y))"
      ],
      "execution_count": 15,
      "outputs": [
        {
          "output_type": "stream",
          "text": [
            "5.5 <class 'float'>\n",
            "5 <class 'int'>\n"
          ],
          "name": "stdout"
        }
      ]
    },
    {
      "cell_type": "markdown",
      "metadata": {
        "id": "ybQN6VT02r7Y",
        "colab_type": "text"
      },
      "source": [
        "INT TO STR"
      ]
    },
    {
      "cell_type": "code",
      "metadata": {
        "id": "lkM9SuhG10zh",
        "colab_type": "code",
        "colab": {
          "base_uri": "https://localhost:8080/",
          "height": 50
        },
        "outputId": "23f3afe0-faf8-4d72-eaf4-3e177030198e"
      },
      "source": [
        "s='123'\n",
        "x=str(s)\n",
        "print(s,type(s))\n",
        "print(x,type(x))"
      ],
      "execution_count": 20,
      "outputs": [
        {
          "output_type": "stream",
          "text": [
            "123 <class 'str'>\n",
            "123 <class 'str'>\n"
          ],
          "name": "stdout"
        }
      ]
    },
    {
      "cell_type": "markdown",
      "metadata": {
        "id": "YDM0oCvx3vXK",
        "colab_type": "text"
      },
      "source": [
        "Converting in boolean value"
      ]
    },
    {
      "cell_type": "code",
      "metadata": {
        "id": "JjrQbaC815j_",
        "colab_type": "code",
        "colab": {
          "base_uri": "https://localhost:8080/",
          "height": 67
        },
        "outputId": "80d7053c-fc87-457d-b0ff-91bb79ce0ce6"
      },
      "source": [
        "x,y,z=0,10.7,'Hi'\n",
        "print(bool(x))\n",
        "print(bool(y))\n",
        "print(bool(z))"
      ],
      "execution_count": 24,
      "outputs": [
        {
          "output_type": "stream",
          "text": [
            "False\n",
            "True\n",
            "True\n"
          ],
          "name": "stdout"
        }
      ]
    },
    {
      "cell_type": "code",
      "metadata": {
        "id": "c7dMHO9Y3jn7",
        "colab_type": "code",
        "colab": {
          "base_uri": "https://localhost:8080/",
          "height": 34
        },
        "outputId": "298a7696-52e4-4d32-f227-959b171463e5"
      },
      "source": [
        "s=''\n",
        "print(bool(s))"
      ],
      "execution_count": 26,
      "outputs": [
        {
          "output_type": "stream",
          "text": [
            "False\n"
          ],
          "name": "stdout"
        }
      ]
    },
    {
      "cell_type": "code",
      "metadata": {
        "id": "YYTvLEdq4HG9",
        "colab_type": "code",
        "colab": {
          "base_uri": "https://localhost:8080/",
          "height": 34
        },
        "outputId": "81728c88-8b29-468e-bee7-d13a7630f054"
      },
      "source": [
        "s='/0'\n",
        "print(bool(s))"
      ],
      "execution_count": 27,
      "outputs": [
        {
          "output_type": "stream",
          "text": [
            "True\n"
          ],
          "name": "stdout"
        }
      ]
    },
    {
      "cell_type": "markdown",
      "metadata": {
        "id": "qccC87oP5VjB",
        "colab_type": "text"
      },
      "source": [
        "STRING OPERATIONS"
      ]
    },
    {
      "cell_type": "code",
      "metadata": {
        "id": "4FajHrtH4liI",
        "colab_type": "code",
        "colab": {
          "base_uri": "https://localhost:8080/",
          "height": 34
        },
        "outputId": "31fd3511-3f53-4bf4-96ff-f7ff8398371b"
      },
      "source": [
        "a='Good morning'\n",
        "print(len(a))"
      ],
      "execution_count": 29,
      "outputs": [
        {
          "output_type": "stream",
          "text": [
            "12\n"
          ],
          "name": "stdout"
        }
      ]
    },
    {
      "cell_type": "markdown",
      "metadata": {
        "id": "fAySVZvq9RIE",
        "colab_type": "text"
      },
      "source": [
        "Forward indexing (positive)"
      ]
    },
    {
      "cell_type": "code",
      "metadata": {
        "id": "XU9laP7-5cYF",
        "colab_type": "code",
        "colab": {
          "base_uri": "https://localhost:8080/",
          "height": 34
        },
        "outputId": "476ff4f7-d571-4aee-fce8-308bf69382f7"
      },
      "source": [
        "a[2]"
      ],
      "execution_count": 30,
      "outputs": [
        {
          "output_type": "execute_result",
          "data": {
            "text/plain": [
              "'o'"
            ]
          },
          "metadata": {
            "tags": []
          },
          "execution_count": 30
        }
      ]
    },
    {
      "cell_type": "markdown",
      "metadata": {
        "id": "jI4-kOhH5-9M",
        "colab_type": "text"
      },
      "source": [
        "SUBSTRING - SYNTAX : Stringname[start:end]"
      ]
    },
    {
      "cell_type": "code",
      "metadata": {
        "id": "g_6HTQU-59xu",
        "colab_type": "code",
        "colab": {
          "base_uri": "https://localhost:8080/",
          "height": 34
        },
        "outputId": "cbb1a7b7-bf23-4d81-9038-33eccad79d6d"
      },
      "source": [
        "a[5:8]"
      ],
      "execution_count": 33,
      "outputs": [
        {
          "output_type": "execute_result",
          "data": {
            "text/plain": [
              "'mor'"
            ]
          },
          "metadata": {
            "tags": []
          },
          "execution_count": 33
        }
      ]
    },
    {
      "cell_type": "code",
      "metadata": {
        "id": "Ft312mML6XuY",
        "colab_type": "code",
        "colab": {
          "base_uri": "https://localhost:8080/",
          "height": 34
        },
        "outputId": "74ed1c2a-7320-4b70-e2f6-ae275e08ac07"
      },
      "source": [
        "a[5:13]"
      ],
      "execution_count": 34,
      "outputs": [
        {
          "output_type": "execute_result",
          "data": {
            "text/plain": [
              "'morning'"
            ]
          },
          "metadata": {
            "tags": []
          },
          "execution_count": 34
        }
      ]
    },
    {
      "cell_type": "code",
      "metadata": {
        "id": "bgVKTA6y62vE",
        "colab_type": "code",
        "colab": {
          "base_uri": "https://localhost:8080/",
          "height": 34
        },
        "outputId": "09786d62-e9da-470d-8a35-b5baaff13c1a"
      },
      "source": [
        "a[:5]"
      ],
      "execution_count": 36,
      "outputs": [
        {
          "output_type": "execute_result",
          "data": {
            "text/plain": [
              "'Good '"
            ]
          },
          "metadata": {
            "tags": []
          },
          "execution_count": 36
        }
      ]
    },
    {
      "cell_type": "code",
      "metadata": {
        "id": "p-wqM_dn68gW",
        "colab_type": "code",
        "colab": {
          "base_uri": "https://localhost:8080/",
          "height": 34
        },
        "outputId": "64493102-7725-4d98-fb0c-55d77ef67dcb"
      },
      "source": [
        "a[4:]"
      ],
      "execution_count": 37,
      "outputs": [
        {
          "output_type": "execute_result",
          "data": {
            "text/plain": [
              "' morning'"
            ]
          },
          "metadata": {
            "tags": []
          },
          "execution_count": 37
        }
      ]
    },
    {
      "cell_type": "markdown",
      "metadata": {
        "id": "hoxr3IDV8zQj",
        "colab_type": "text"
      },
      "source": [
        "Extracting the substring - SYNTAX : stringname[start:end:step]"
      ]
    },
    {
      "cell_type": "code",
      "metadata": {
        "id": "nZc91aJ37N7N",
        "colab_type": "code",
        "colab": {
          "base_uri": "https://localhost:8080/",
          "height": 34
        },
        "outputId": "fdef5d02-6ee1-4583-952d-088137da8b06"
      },
      "source": [
        "s='Good morning'\n",
        "s[0:12:1]"
      ],
      "execution_count": 39,
      "outputs": [
        {
          "output_type": "execute_result",
          "data": {
            "text/plain": [
              "'Good morning'"
            ]
          },
          "metadata": {
            "tags": []
          },
          "execution_count": 39
        }
      ]
    },
    {
      "cell_type": "code",
      "metadata": {
        "id": "i9r0Lu9y7jtO",
        "colab_type": "code",
        "colab": {
          "base_uri": "https://localhost:8080/",
          "height": 34
        },
        "outputId": "f29730f3-2281-4b8c-86e8-195c5bfaeee0"
      },
      "source": [
        "s[0:12:2]"
      ],
      "execution_count": 40,
      "outputs": [
        {
          "output_type": "execute_result",
          "data": {
            "text/plain": [
              "'Go onn'"
            ]
          },
          "metadata": {
            "tags": []
          },
          "execution_count": 40
        }
      ]
    },
    {
      "cell_type": "code",
      "metadata": {
        "id": "HJTeTcuw78-D",
        "colab_type": "code",
        "colab": {
          "base_uri": "https://localhost:8080/",
          "height": 34
        },
        "outputId": "12c6967c-44cc-46ef-939a-641001b070b4"
      },
      "source": [
        "s[0:12:5]"
      ],
      "execution_count": 42,
      "outputs": [
        {
          "output_type": "execute_result",
          "data": {
            "text/plain": [
              "'Gmn'"
            ]
          },
          "metadata": {
            "tags": []
          },
          "execution_count": 42
        }
      ]
    },
    {
      "cell_type": "markdown",
      "metadata": {
        "id": "INInDnYy9Kl_",
        "colab_type": "text"
      },
      "source": [
        "Backward indexing (indicated by minus) started by (-1)"
      ]
    },
    {
      "cell_type": "code",
      "metadata": {
        "id": "_R783LvC8QUq",
        "colab_type": "code",
        "colab": {
          "base_uri": "https://localhost:8080/",
          "height": 34
        },
        "outputId": "9174a8f0-54f3-45c8-d10f-b0388ea03791"
      },
      "source": [
        "s[-11]"
      ],
      "execution_count": 43,
      "outputs": [
        {
          "output_type": "execute_result",
          "data": {
            "text/plain": [
              "'o'"
            ]
          },
          "metadata": {
            "tags": []
          },
          "execution_count": 43
        }
      ]
    },
    {
      "cell_type": "code",
      "metadata": {
        "id": "wNg0Jqcj9gV2",
        "colab_type": "code",
        "colab": {
          "base_uri": "https://localhost:8080/",
          "height": 34
        },
        "outputId": "4b86c9c0-01bc-4108-bb38-cab86838b533"
      },
      "source": [
        "s[-12]"
      ],
      "execution_count": 44,
      "outputs": [
        {
          "output_type": "execute_result",
          "data": {
            "text/plain": [
              "'G'"
            ]
          },
          "metadata": {
            "tags": []
          },
          "execution_count": 44
        }
      ]
    },
    {
      "cell_type": "code",
      "metadata": {
        "id": "0o6u4g-g9iqZ",
        "colab_type": "code",
        "colab": {
          "base_uri": "https://localhost:8080/",
          "height": 34
        },
        "outputId": "775a71b7-b041-452d-ab9e-7d3867f5fe6c"
      },
      "source": [
        "s[:-1]"
      ],
      "execution_count": 46,
      "outputs": [
        {
          "output_type": "execute_result",
          "data": {
            "text/plain": [
              "'Good mornin'"
            ]
          },
          "metadata": {
            "tags": []
          },
          "execution_count": 46
        }
      ]
    },
    {
      "cell_type": "code",
      "metadata": {
        "id": "CWm_03Fl9rAT",
        "colab_type": "code",
        "colab": {
          "base_uri": "https://localhost:8080/",
          "height": 34
        },
        "outputId": "466b8f7f-dc1d-4c80-951b-bf074debc584"
      },
      "source": [
        "s[-1::-1]"
      ],
      "execution_count": 47,
      "outputs": [
        {
          "output_type": "execute_result",
          "data": {
            "text/plain": [
              "'gninrom dooG'"
            ]
          },
          "metadata": {
            "tags": []
          },
          "execution_count": 47
        }
      ]
    },
    {
      "cell_type": "code",
      "metadata": {
        "id": "mpqQpK-991mx",
        "colab_type": "code",
        "colab": {
          "base_uri": "https://localhost:8080/",
          "height": 34
        },
        "outputId": "8fafaca9-c3bd-422d-d2ab-f48f0b958bae"
      },
      "source": [
        "s[-1::-3]"
      ],
      "execution_count": 48,
      "outputs": [
        {
          "output_type": "execute_result",
          "data": {
            "text/plain": [
              "'gnmo'"
            ]
          },
          "metadata": {
            "tags": []
          },
          "execution_count": 48
        }
      ]
    },
    {
      "cell_type": "markdown",
      "metadata": {
        "id": "01pDszbD-asy",
        "colab_type": "text"
      },
      "source": [
        "Write a python program to check whether the sring is palandrom or no"
      ]
    },
    {
      "cell_type": "code",
      "metadata": {
        "id": "AVIsF6C0-Mw5",
        "colab_type": "code",
        "colab": {
          "base_uri": "https://localhost:8080/",
          "height": 50
        },
        "outputId": "357a2037-5c56-44ec-ac23-2f3c9db03a3a"
      },
      "source": [
        "a='madam'\n",
        "print(len(a))\n",
        "s=a[-1::-1]\n",
        "print(a==s)"
      ],
      "execution_count": 52,
      "outputs": [
        {
          "output_type": "stream",
          "text": [
            "5\n",
            "True\n"
          ],
          "name": "stdout"
        }
      ]
    },
    {
      "cell_type": "markdown",
      "metadata": {
        "id": "Pt-JyT2o_n44",
        "colab_type": "text"
      },
      "source": [
        "Python program to search for a substring in a str"
      ]
    },
    {
      "cell_type": "code",
      "metadata": {
        "id": "TEYJE1x9-vQ5",
        "colab_type": "code",
        "colab": {
          "base_uri": "https://localhost:8080/",
          "height": 34
        },
        "outputId": "d0a45ece-9400-4f8c-881a-94e370fa1946"
      },
      "source": [
        "s1='This is IPL World Cup 2020'\n",
        "s2='IPL'\n",
        "print(s2 in s1)"
      ],
      "execution_count": 53,
      "outputs": [
        {
          "output_type": "stream",
          "text": [
            "True\n"
          ],
          "name": "stdout"
        }
      ]
    },
    {
      "cell_type": "markdown",
      "metadata": {
        "id": "ydnm2mFSAifp",
        "colab_type": "text"
      },
      "source": [
        "Python program to display calender of a month"
      ]
    },
    {
      "cell_type": "code",
      "metadata": {
        "id": "uA_fJ_nv_-sp",
        "colab_type": "code",
        "colab": {
          "base_uri": "https://localhost:8080/",
          "height": 185
        },
        "outputId": "3bf87dca-691c-48c3-eec7-cce57c90ed85"
      },
      "source": [
        "import calendar \n",
        "yy=int(input(\"Enter the year \"))\n",
        "mm=int(input(\"Enter the month you want to see in the calender \"))\n",
        "print(calendar.month(yy,mm))"
      ],
      "execution_count": 59,
      "outputs": [
        {
          "output_type": "stream",
          "text": [
            "Enter the year 2020\n",
            "Enter the month you want to see in the calender 7\n",
            "     July 2020\n",
            "Mo Tu We Th Fr Sa Su\n",
            "       1  2  3  4  5\n",
            " 6  7  8  9 10 11 12\n",
            "13 14 15 16 17 18 19\n",
            "20 21 22 23 24 25 26\n",
            "27 28 29 30 31\n",
            "\n"
          ],
          "name": "stdout"
        }
      ]
    },
    {
      "cell_type": "code",
      "metadata": {
        "id": "elXc_DeRBAix",
        "colab_type": "code",
        "colab": {}
      },
      "source": [
        ""
      ],
      "execution_count": null,
      "outputs": []
    }
  ]
}