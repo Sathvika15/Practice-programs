{
  "nbformat": 4,
  "nbformat_minor": 0,
  "metadata": {
    "colab": {
      "name": "Day12.ipynb",
      "provenance": [],
      "collapsed_sections": [],
      "authorship_tag": "ABX9TyOGa/ucTwalV3SZMatKEu2K",
      "include_colab_link": true
    },
    "kernelspec": {
      "name": "python3",
      "display_name": "Python 3"
    }
  },
  "cells": [
    {
      "cell_type": "markdown",
      "metadata": {
        "id": "view-in-github",
        "colab_type": "text"
      },
      "source": [
        "<a href=\"https://colab.research.google.com/github/Sathvika15/Practice-programs/blob/master/Day12.ipynb\" target=\"_parent\"><img src=\"https://colab.research.google.com/assets/colab-badge.svg\" alt=\"Open In Colab\"/></a>"
      ]
    },
    {
      "cell_type": "markdown",
      "metadata": {
        "id": "1kxtyQvZmnLA",
        "colab_type": "text"
      },
      "source": [
        "**Data Structures in PYTHON**\n",
        ".\n",
        ".\n",
        "List ---> [] - Mutable \n",
        "Tuple ---> () - Immutable\n",
        "Sets ---> {} \n",
        "Dictionary ----> { key :value}"
      ]
    },
    {
      "cell_type": "markdown",
      "metadata": {
        "id": "GH9J7-n-mrBk",
        "colab_type": "text"
      },
      "source": [
        "#Tuples - It is a comma seperated values \n",
        "\n",
        "We can have repeated values "
      ]
    },
    {
      "cell_type": "markdown",
      "metadata": {
        "id": "zzYfhDb2nBtb",
        "colab_type": "text"
      },
      "source": [
        "How to create a tuple"
      ]
    },
    {
      "cell_type": "code",
      "metadata": {
        "id": "dcGqFPDKmj4G",
        "colab_type": "code",
        "colab": {
          "base_uri": "https://localhost:8080/",
          "height": 34
        },
        "outputId": "b489927b-8569-4345-8d4e-bbff43577f6f"
      },
      "source": [
        "t1=(1,2,3)\n",
        "print(t1,type(t1))"
      ],
      "execution_count": 1,
      "outputs": [
        {
          "output_type": "stream",
          "text": [
            "(1, 2, 3) <class 'tuple'>\n"
          ],
          "name": "stdout"
        }
      ]
    },
    {
      "cell_type": "markdown",
      "metadata": {
        "id": "7nMQEUxYnra8",
        "colab_type": "text"
      },
      "source": [
        "or "
      ]
    },
    {
      "cell_type": "code",
      "metadata": {
        "id": "z7Dsg_q3nK-B",
        "colab_type": "code",
        "colab": {
          "base_uri": "https://localhost:8080/",
          "height": 34
        },
        "outputId": "911b7bfa-7e81-4523-ddfd-26259b696652"
      },
      "source": [
        "t2=1,2,3\n",
        "print(t2,type(t2))"
      ],
      "execution_count": 2,
      "outputs": [
        {
          "output_type": "stream",
          "text": [
            "(1, 2, 3) <class 'tuple'>\n"
          ],
          "name": "stdout"
        }
      ]
    },
    {
      "cell_type": "markdown",
      "metadata": {
        "id": "3APFTZPeoJEO",
        "colab_type": "text"
      },
      "source": [
        "Creating using constructor "
      ]
    },
    {
      "cell_type": "code",
      "metadata": {
        "id": "r2fOOrW8nxai",
        "colab_type": "code",
        "colab": {
          "base_uri": "https://localhost:8080/",
          "height": 34
        },
        "outputId": "771aaafd-c054-4403-8507-6853441d2a67"
      },
      "source": [
        "t1=tuple()\n",
        "print(t1,type(t1))"
      ],
      "execution_count": 3,
      "outputs": [
        {
          "output_type": "stream",
          "text": [
            "() <class 'tuple'>\n"
          ],
          "name": "stdout"
        }
      ]
    },
    {
      "cell_type": "code",
      "metadata": {
        "id": "SiK8HzHRoTNP",
        "colab_type": "code",
        "colab": {
          "base_uri": "https://localhost:8080/",
          "height": 34
        },
        "outputId": "e7eac310-d5fa-498d-f4c1-2aa2f9980d4b"
      },
      "source": [
        "t1=()\n",
        "print(t1,type(t1))"
      ],
      "execution_count": 4,
      "outputs": [
        {
          "output_type": "stream",
          "text": [
            "() <class 'tuple'>\n"
          ],
          "name": "stdout"
        }
      ]
    },
    {
      "cell_type": "markdown",
      "metadata": {
        "id": "hlFB6Or5o2_G",
        "colab_type": "text"
      },
      "source": [
        "How to create a single value tuple "
      ]
    },
    {
      "cell_type": "code",
      "metadata": {
        "id": "1GM7SWLDoXlu",
        "colab_type": "code",
        "colab": {
          "base_uri": "https://localhost:8080/",
          "height": 34
        },
        "outputId": "062b9239-a933-42c1-80e6-4a58e77b585e"
      },
      "source": [
        "t1=(5,)\n",
        "print(t1,type(t1))"
      ],
      "execution_count": 5,
      "outputs": [
        {
          "output_type": "stream",
          "text": [
            "(5,) <class 'tuple'>\n"
          ],
          "name": "stdout"
        }
      ]
    },
    {
      "cell_type": "code",
      "metadata": {
        "id": "Bb_siPQdpSwD",
        "colab_type": "code",
        "colab": {
          "base_uri": "https://localhost:8080/",
          "height": 34
        },
        "outputId": "14c771a2-31b0-4762-f09c-64aa31121e7d"
      },
      "source": [
        "t1=(1,3,6,2,1,5,6,6)\n",
        "print(t1)"
      ],
      "execution_count": 7,
      "outputs": [
        {
          "output_type": "stream",
          "text": [
            "(1, 3, 6, 2, 1, 5, 6, 6)\n"
          ],
          "name": "stdout"
        }
      ]
    },
    {
      "cell_type": "markdown",
      "metadata": {
        "id": "Tvsb8S5yp8Hd",
        "colab_type": "text"
      },
      "source": [
        "For set - It cannot have repeated values "
      ]
    },
    {
      "cell_type": "code",
      "metadata": {
        "id": "IVBNfCLmpn5A",
        "colab_type": "code",
        "colab": {
          "base_uri": "https://localhost:8080/",
          "height": 34
        },
        "outputId": "0aa9858f-74e1-4e4c-8946-54b095c924e4"
      },
      "source": [
        "t1={1,3,6,2,1,5,6,6}\n",
        "print(t1)"
      ],
      "execution_count": 8,
      "outputs": [
        {
          "output_type": "stream",
          "text": [
            "{1, 2, 3, 5, 6}\n"
          ],
          "name": "stdout"
        }
      ]
    },
    {
      "cell_type": "markdown",
      "metadata": {
        "id": "PpnpRA5gqUWG",
        "colab_type": "text"
      },
      "source": [
        "We can pass sequence of values to a a construction in order to create a tuple"
      ]
    },
    {
      "cell_type": "code",
      "metadata": {
        "id": "qlxN_V8qqDeO",
        "colab_type": "code",
        "colab": {
          "base_uri": "https://localhost:8080/",
          "height": 34
        },
        "outputId": "0950d51d-97be-4bea-a9ab-782d67e26de5"
      },
      "source": [
        "t1=tuple(\"GITAM\")\n",
        "t1"
      ],
      "execution_count": 9,
      "outputs": [
        {
          "output_type": "execute_result",
          "data": {
            "text/plain": [
              "('G', 'I', 'T', 'A', 'M')"
            ]
          },
          "metadata": {
            "tags": []
          },
          "execution_count": 9
        }
      ]
    },
    {
      "cell_type": "markdown",
      "metadata": {
        "id": "UNguMkZIqgsg",
        "colab_type": "text"
      },
      "source": [
        "Indexing in tuple starts from 0 "
      ]
    },
    {
      "cell_type": "code",
      "metadata": {
        "id": "l-PiUyI-qfiu",
        "colab_type": "code",
        "colab": {
          "base_uri": "https://localhost:8080/",
          "height": 35
        },
        "outputId": "887eb7ac-c348-4b51-b565-09a510d87da7"
      },
      "source": [
        "t1[0]"
      ],
      "execution_count": 10,
      "outputs": [
        {
          "output_type": "execute_result",
          "data": {
            "application/vnd.google.colaboratory.intrinsic": {
              "type": "string"
            },
            "text/plain": [
              "'G'"
            ]
          },
          "metadata": {
            "tags": []
          },
          "execution_count": 10
        }
      ]
    },
    {
      "cell_type": "code",
      "metadata": {
        "id": "Dhjfc868qlS8",
        "colab_type": "code",
        "colab": {
          "base_uri": "https://localhost:8080/",
          "height": 35
        },
        "outputId": "16a4b75a-c3e2-4029-c51d-e9b9096a6714"
      },
      "source": [
        "t1[4]"
      ],
      "execution_count": 14,
      "outputs": [
        {
          "output_type": "execute_result",
          "data": {
            "application/vnd.google.colaboratory.intrinsic": {
              "type": "string"
            },
            "text/plain": [
              "'M'"
            ]
          },
          "metadata": {
            "tags": []
          },
          "execution_count": 14
        }
      ]
    },
    {
      "cell_type": "code",
      "metadata": {
        "id": "82uKyyU3qnFR",
        "colab_type": "code",
        "colab": {
          "base_uri": "https://localhost:8080/",
          "height": 34
        },
        "outputId": "3ffdc206-f68f-43d0-e0f0-d4138a5b236d"
      },
      "source": [
        "t1[0:5]"
      ],
      "execution_count": 15,
      "outputs": [
        {
          "output_type": "execute_result",
          "data": {
            "text/plain": [
              "('G', 'I', 'T', 'A', 'M')"
            ]
          },
          "metadata": {
            "tags": []
          },
          "execution_count": 15
        }
      ]
    },
    {
      "cell_type": "code",
      "metadata": {
        "id": "UideK7BGqwti",
        "colab_type": "code",
        "colab": {
          "base_uri": "https://localhost:8080/",
          "height": 34
        },
        "outputId": "eab2cb5c-6d73-46a8-d189-ec435239055a"
      },
      "source": [
        "t1=(1,3,6,2,1,5,6,6)\n",
        "t1[2:5]\n"
      ],
      "execution_count": 16,
      "outputs": [
        {
          "output_type": "execute_result",
          "data": {
            "text/plain": [
              "(6, 2, 1)"
            ]
          },
          "metadata": {
            "tags": []
          },
          "execution_count": 16
        }
      ]
    },
    {
      "cell_type": "code",
      "metadata": {
        "id": "Wr1pILbOrO8X",
        "colab_type": "code",
        "colab": {
          "base_uri": "https://localhost:8080/",
          "height": 34
        },
        "outputId": "e6f81589-84f8-43e2-b28b-cd47d1f0ff4a"
      },
      "source": [
        "t1[:-1]"
      ],
      "execution_count": 17,
      "outputs": [
        {
          "output_type": "execute_result",
          "data": {
            "text/plain": [
              "(1, 3, 6, 2, 1, 5, 6)"
            ]
          },
          "metadata": {
            "tags": []
          },
          "execution_count": 17
        }
      ]
    },
    {
      "cell_type": "code",
      "metadata": {
        "id": "S2HAKwKvriJf",
        "colab_type": "code",
        "colab": {
          "base_uri": "https://localhost:8080/",
          "height": 34
        },
        "outputId": "d71400f9-f709-401d-d9c7-082b80e30133"
      },
      "source": [
        "t1[::-1]"
      ],
      "execution_count": 18,
      "outputs": [
        {
          "output_type": "execute_result",
          "data": {
            "text/plain": [
              "(6, 6, 5, 1, 2, 6, 3, 1)"
            ]
          },
          "metadata": {
            "tags": []
          },
          "execution_count": 18
        }
      ]
    },
    {
      "cell_type": "markdown",
      "metadata": {
        "id": "V-1QNZIKsAsb",
        "colab_type": "text"
      },
      "source": [
        "Tuple is immutable "
      ]
    },
    {
      "cell_type": "code",
      "metadata": {
        "id": "13HXbYKcrsKs",
        "colab_type": "code",
        "colab": {
          "base_uri": "https://localhost:8080/",
          "height": 212
        },
        "outputId": "5267f393-0101-4425-cd10-2fe608f47970"
      },
      "source": [
        "t1=tuple(\"GITAM\")\n",
        "print(t1)\n",
        "t1[0]='K'"
      ],
      "execution_count": 21,
      "outputs": [
        {
          "output_type": "stream",
          "text": [
            "('G', 'I', 'T', 'A', 'M')\n"
          ],
          "name": "stdout"
        },
        {
          "output_type": "error",
          "ename": "TypeError",
          "evalue": "ignored",
          "traceback": [
            "\u001b[0;31m---------------------------------------------------------------------------\u001b[0m",
            "\u001b[0;31mTypeError\u001b[0m                                 Traceback (most recent call last)",
            "\u001b[0;32m<ipython-input-21-e1a422ccdb42>\u001b[0m in \u001b[0;36m<module>\u001b[0;34m()\u001b[0m\n\u001b[1;32m      1\u001b[0m \u001b[0mt1\u001b[0m\u001b[0;34m=\u001b[0m\u001b[0mtuple\u001b[0m\u001b[0;34m(\u001b[0m\u001b[0;34m\"GITAM\"\u001b[0m\u001b[0;34m)\u001b[0m\u001b[0;34m\u001b[0m\u001b[0;34m\u001b[0m\u001b[0m\n\u001b[1;32m      2\u001b[0m \u001b[0mprint\u001b[0m\u001b[0;34m(\u001b[0m\u001b[0mt1\u001b[0m\u001b[0;34m)\u001b[0m\u001b[0;34m\u001b[0m\u001b[0;34m\u001b[0m\u001b[0m\n\u001b[0;32m----> 3\u001b[0;31m \u001b[0mt1\u001b[0m\u001b[0;34m[\u001b[0m\u001b[0;36m0\u001b[0m\u001b[0;34m]\u001b[0m\u001b[0;34m=\u001b[0m\u001b[0;34m'K'\u001b[0m\u001b[0;34m\u001b[0m\u001b[0;34m\u001b[0m\u001b[0m\n\u001b[0m",
            "\u001b[0;31mTypeError\u001b[0m: 'tuple' object does not support item assignment"
          ]
        }
      ]
    },
    {
      "cell_type": "code",
      "metadata": {
        "id": "m_g0lWXAr5GS",
        "colab_type": "code",
        "colab": {
          "base_uri": "https://localhost:8080/",
          "height": 34
        },
        "outputId": "1c84a13f-a82c-457b-d18d-c422cba0f7cd"
      },
      "source": [
        "t1=tuple(\"GITAM\")\n",
        "print(t1)"
      ],
      "execution_count": 22,
      "outputs": [
        {
          "output_type": "stream",
          "text": [
            "('G', 'I', 'T', 'A', 'M')\n"
          ],
          "name": "stdout"
        }
      ]
    },
    {
      "cell_type": "markdown",
      "metadata": {
        "id": "ykpbJe1VsaZW",
        "colab_type": "text"
      },
      "source": [
        "To add something :\n",
        "We can use addition operator(+)- Concatenation operator \n",
        "\n",
        "\n"
      ]
    },
    {
      "cell_type": "code",
      "metadata": {
        "id": "5q6X4fo5sYja",
        "colab_type": "code",
        "colab": {
          "base_uri": "https://localhost:8080/",
          "height": 34
        },
        "outputId": "222cf499-efd2-4953-b2fc-f262cfede62f"
      },
      "source": [
        "t2=('S','c','h','o','o','l')\n",
        "t1=t1+t2\n",
        "print(t1)"
      ],
      "execution_count": 23,
      "outputs": [
        {
          "output_type": "stream",
          "text": [
            "('G', 'I', 'T', 'A', 'M', 'S', 'c', 'h', 'o', 'o', 'l')\n"
          ],
          "name": "stdout"
        }
      ]
    },
    {
      "cell_type": "code",
      "metadata": {
        "id": "wi4iiF7gssOJ",
        "colab_type": "code",
        "colab": {
          "base_uri": "https://localhost:8080/",
          "height": 571
        },
        "outputId": "8b5d312a-0fae-4fa2-8a26-59a6ca6209d4"
      },
      "source": [
        "t3=t1*3\n",
        "t3"
      ],
      "execution_count": 25,
      "outputs": [
        {
          "output_type": "execute_result",
          "data": {
            "text/plain": [
              "('G',\n",
              " 'I',\n",
              " 'T',\n",
              " 'A',\n",
              " 'M',\n",
              " 'S',\n",
              " 'c',\n",
              " 'h',\n",
              " 'o',\n",
              " 'o',\n",
              " 'l',\n",
              " 'G',\n",
              " 'I',\n",
              " 'T',\n",
              " 'A',\n",
              " 'M',\n",
              " 'S',\n",
              " 'c',\n",
              " 'h',\n",
              " 'o',\n",
              " 'o',\n",
              " 'l',\n",
              " 'G',\n",
              " 'I',\n",
              " 'T',\n",
              " 'A',\n",
              " 'M',\n",
              " 'S',\n",
              " 'c',\n",
              " 'h',\n",
              " 'o',\n",
              " 'o',\n",
              " 'l')"
            ]
          },
          "metadata": {
            "tags": []
          },
          "execution_count": 25
        }
      ]
    },
    {
      "cell_type": "markdown",
      "metadata": {
        "id": "7vMagDhBtR2c",
        "colab_type": "text"
      },
      "source": [
        "COMPARING TWO TUPLES - It takes by comparing the respective elements in the respective indexes "
      ]
    },
    {
      "cell_type": "code",
      "metadata": {
        "id": "qpFAju7ctFnr",
        "colab_type": "code",
        "colab": {
          "base_uri": "https://localhost:8080/",
          "height": 34
        },
        "outputId": "5fdad0f7-5589-4656-a659-0f55ce4c7f37"
      },
      "source": [
        "t1=(1,3,3)\n",
        "t2=(1,3,4)\n",
        "t1<t2"
      ],
      "execution_count": 28,
      "outputs": [
        {
          "output_type": "execute_result",
          "data": {
            "text/plain": [
              "True"
            ]
          },
          "metadata": {
            "tags": []
          },
          "execution_count": 28
        }
      ]
    },
    {
      "cell_type": "markdown",
      "metadata": {
        "id": "LMflv6JouMpE",
        "colab_type": "text"
      },
      "source": [
        "Assignment operator "
      ]
    },
    {
      "cell_type": "code",
      "metadata": {
        "id": "w51Vr_I0til4",
        "colab_type": "code",
        "colab": {
          "base_uri": "https://localhost:8080/",
          "height": 34
        },
        "outputId": "d0cd7246-9da6-4af5-b686-39d22851500a"
      },
      "source": [
        "x,y,z=1,2.08,'woah'\n",
        "print(x,y,z)"
      ],
      "execution_count": 30,
      "outputs": [
        {
          "output_type": "stream",
          "text": [
            "1 2.08 woah\n"
          ],
          "name": "stdout"
        }
      ]
    },
    {
      "cell_type": "markdown",
      "metadata": {
        "id": "T4FYY9dsumIq",
        "colab_type": "text"
      },
      "source": [
        "Swapping two numbers using assignment operator"
      ]
    },
    {
      "cell_type": "code",
      "metadata": {
        "id": "E0RsGJq6uUk8",
        "colab_type": "code",
        "colab": {
          "base_uri": "https://localhost:8080/",
          "height": 34
        },
        "outputId": "3c8d9329-f7d9-49e3-83d5-84dc9c899316"
      },
      "source": [
        "x,y=y,x\n",
        "print(x,y)"
      ],
      "execution_count": 31,
      "outputs": [
        {
          "output_type": "stream",
          "text": [
            "2.08 1\n"
          ],
          "name": "stdout"
        }
      ]
    },
    {
      "cell_type": "markdown",
      "metadata": {
        "id": "6JxxmMenvQ4j",
        "colab_type": "text"
      },
      "source": [
        "replacement for "
      ]
    },
    {
      "cell_type": "code",
      "metadata": {
        "id": "7m-JyIc7uuhy",
        "colab_type": "code",
        "colab": {
          "base_uri": "https://localhost:8080/",
          "height": 34
        },
        "outputId": "1a3b5aa0-384b-4cd8-d5dc-fa6ae2e720b4"
      },
      "source": [
        "x,y=5,2\n",
        "x=x+y\n",
        "y=x-y\n",
        "x=x-y\n",
        "print(x,y)"
      ],
      "execution_count": 33,
      "outputs": [
        {
          "output_type": "stream",
          "text": [
            "2 5\n"
          ],
          "name": "stdout"
        }
      ]
    },
    {
      "cell_type": "markdown",
      "metadata": {
        "id": "7LieRvgKv7Lu",
        "colab_type": "text"
      },
      "source": [
        "Program to seperate the domain and username from email id's"
      ]
    },
    {
      "cell_type": "code",
      "metadata": {
        "id": "yNDMo9lZvK8p",
        "colab_type": "code",
        "colab": {
          "base_uri": "https://localhost:8080/",
          "height": 50
        },
        "outputId": "8b230ff0-de38-41ed-e84f-4d52732774e2"
      },
      "source": [
        "Emailid='geetha21@gitam.edu'\n",
        "uname,domain=Emailid.split('@')\n",
        "print(uname)\n",
        "print(domain)"
      ],
      "execution_count": 34,
      "outputs": [
        {
          "output_type": "stream",
          "text": [
            "geetha21\n",
            "gitam.edu\n"
          ],
          "name": "stdout"
        }
      ]
    },
    {
      "cell_type": "markdown",
      "metadata": {
        "id": "wFpt5Zynw_Wm",
        "colab_type": "text"
      },
      "source": [
        "SEARCH OPERATION "
      ]
    },
    {
      "cell_type": "code",
      "metadata": {
        "id": "Byd0dfkfwqga",
        "colab_type": "code",
        "colab": {
          "base_uri": "https://localhost:8080/",
          "height": 34
        },
        "outputId": "86e24b58-cb12-4ef0-fc79-0546d3842dac"
      },
      "source": [
        "t1=(1,2,3,4,5,6)\n",
        "print( 5 in t1) \n"
      ],
      "execution_count": 36,
      "outputs": [
        {
          "output_type": "stream",
          "text": [
            "True\n"
          ],
          "name": "stdout"
        }
      ]
    },
    {
      "cell_type": "code",
      "metadata": {
        "id": "DQxzDSqRxO-N",
        "colab_type": "code",
        "colab": {
          "base_uri": "https://localhost:8080/",
          "height": 34
        },
        "outputId": "381108c8-9943-4d63-89c8-d564a28dbe93"
      },
      "source": [
        "print( 5 not in t1)"
      ],
      "execution_count": 37,
      "outputs": [
        {
          "output_type": "stream",
          "text": [
            "False\n"
          ],
          "name": "stdout"
        }
      ]
    },
    {
      "cell_type": "code",
      "metadata": {
        "id": "JtLl6Wb5xWPn",
        "colab_type": "code",
        "colab": {
          "base_uri": "https://localhost:8080/",
          "height": 34
        },
        "outputId": "c93b0d69-a617-4381-be94-5acce37ddf5c"
      },
      "source": [
        "7 not in t1"
      ],
      "execution_count": 38,
      "outputs": [
        {
          "output_type": "execute_result",
          "data": {
            "text/plain": [
              "True"
            ]
          },
          "metadata": {
            "tags": []
          },
          "execution_count": 38
        }
      ]
    },
    {
      "cell_type": "markdown",
      "metadata": {
        "id": "7UBGtNTyxmtR",
        "colab_type": "text"
      },
      "source": [
        "BUILT- IN OPERATION "
      ]
    },
    {
      "cell_type": "code",
      "metadata": {
        "id": "qDOjKnqbxjt8",
        "colab_type": "code",
        "colab": {
          "base_uri": "https://localhost:8080/",
          "height": 34
        },
        "outputId": "74009514-0802-4979-d041-2df53500665e"
      },
      "source": [
        "len(t1)"
      ],
      "execution_count": 39,
      "outputs": [
        {
          "output_type": "execute_result",
          "data": {
            "text/plain": [
              "6"
            ]
          },
          "metadata": {
            "tags": []
          },
          "execution_count": 39
        }
      ]
    },
    {
      "cell_type": "code",
      "metadata": {
        "id": "YTGamOvSxvpN",
        "colab_type": "code",
        "colab": {
          "base_uri": "https://localhost:8080/",
          "height": 34
        },
        "outputId": "15551213-1288-412a-c9d4-e856da51d53c"
      },
      "source": [
        "max(t1)"
      ],
      "execution_count": 40,
      "outputs": [
        {
          "output_type": "execute_result",
          "data": {
            "text/plain": [
              "6"
            ]
          },
          "metadata": {
            "tags": []
          },
          "execution_count": 40
        }
      ]
    },
    {
      "cell_type": "code",
      "metadata": {
        "id": "YECO14G6xxar",
        "colab_type": "code",
        "colab": {
          "base_uri": "https://localhost:8080/",
          "height": 34
        },
        "outputId": "fb64ff6d-e993-4751-b6b0-ee7bbea67f8b"
      },
      "source": [
        "min(t1)"
      ],
      "execution_count": 41,
      "outputs": [
        {
          "output_type": "execute_result",
          "data": {
            "text/plain": [
              "1"
            ]
          },
          "metadata": {
            "tags": []
          },
          "execution_count": 41
        }
      ]
    },
    {
      "cell_type": "code",
      "metadata": {
        "id": "1yQFBmqaxzGp",
        "colab_type": "code",
        "colab": {
          "base_uri": "https://localhost:8080/",
          "height": 34
        },
        "outputId": "41d7e1e9-75e1-4e1d-bf18-413f84322dc1"
      },
      "source": [
        "t1=('Python','java','C','c++','javascript')\n",
        "print(max(t1))"
      ],
      "execution_count": 43,
      "outputs": [
        {
          "output_type": "stream",
          "text": [
            "javascript\n"
          ],
          "name": "stdout"
        }
      ]
    },
    {
      "cell_type": "code",
      "metadata": {
        "id": "z19ayPupyQTW",
        "colab_type": "code",
        "colab": {
          "base_uri": "https://localhost:8080/",
          "height": 35
        },
        "outputId": "d76435a0-86d5-49ff-87a7-fbdc2f5576a8"
      },
      "source": [
        "min(t1)"
      ],
      "execution_count": 44,
      "outputs": [
        {
          "output_type": "execute_result",
          "data": {
            "application/vnd.google.colaboratory.intrinsic": {
              "type": "string"
            },
            "text/plain": [
              "'C'"
            ]
          },
          "metadata": {
            "tags": []
          },
          "execution_count": 44
        }
      ]
    },
    {
      "cell_type": "markdown",
      "metadata": {
        "id": "Te5kHmuYy_MD",
        "colab_type": "text"
      },
      "source": [
        "min() an max() only works for homogeneous tuples"
      ]
    },
    {
      "cell_type": "code",
      "metadata": {
        "id": "zYzpQ3yqyaH4",
        "colab_type": "code",
        "colab": {
          "base_uri": "https://localhost:8080/",
          "height": 178
        },
        "outputId": "c1b861e5-f224-4103-c922-ef4c4a3018a8"
      },
      "source": [
        "t1=(1,2.4,3,7.2,4,'Python','java')\n",
        "max(t1)\n"
      ],
      "execution_count": 45,
      "outputs": [
        {
          "output_type": "error",
          "ename": "TypeError",
          "evalue": "ignored",
          "traceback": [
            "\u001b[0;31m---------------------------------------------------------------------------\u001b[0m",
            "\u001b[0;31mTypeError\u001b[0m                                 Traceback (most recent call last)",
            "\u001b[0;32m<ipython-input-45-305b3872fb0e>\u001b[0m in \u001b[0;36m<module>\u001b[0;34m()\u001b[0m\n\u001b[1;32m      1\u001b[0m \u001b[0mt1\u001b[0m\u001b[0;34m=\u001b[0m\u001b[0;34m(\u001b[0m\u001b[0;36m1\u001b[0m\u001b[0;34m,\u001b[0m\u001b[0;36m2.4\u001b[0m\u001b[0;34m,\u001b[0m\u001b[0;36m3\u001b[0m\u001b[0;34m,\u001b[0m\u001b[0;36m7.2\u001b[0m\u001b[0;34m,\u001b[0m\u001b[0;36m4\u001b[0m\u001b[0;34m,\u001b[0m\u001b[0;34m'Python'\u001b[0m\u001b[0;34m,\u001b[0m\u001b[0;34m'java'\u001b[0m\u001b[0;34m)\u001b[0m\u001b[0;34m\u001b[0m\u001b[0;34m\u001b[0m\u001b[0m\n\u001b[0;32m----> 2\u001b[0;31m \u001b[0mmax\u001b[0m\u001b[0;34m(\u001b[0m\u001b[0mt1\u001b[0m\u001b[0;34m)\u001b[0m\u001b[0;34m\u001b[0m\u001b[0;34m\u001b[0m\u001b[0m\n\u001b[0m",
            "\u001b[0;31mTypeError\u001b[0m: '>' not supported between instances of 'str' and 'float'"
          ]
        }
      ]
    },
    {
      "cell_type": "code",
      "metadata": {
        "id": "vECiU6wzyvhA",
        "colab_type": "code",
        "colab": {
          "base_uri": "https://localhost:8080/",
          "height": 162
        },
        "outputId": "10ccbf6c-3038-4a4d-b844-e425a5828890"
      },
      "source": [
        "del t1[4]"
      ],
      "execution_count": 46,
      "outputs": [
        {
          "output_type": "error",
          "ename": "TypeError",
          "evalue": "ignored",
          "traceback": [
            "\u001b[0;31m---------------------------------------------------------------------------\u001b[0m",
            "\u001b[0;31mTypeError\u001b[0m                                 Traceback (most recent call last)",
            "\u001b[0;32m<ipython-input-46-b1a71934bca9>\u001b[0m in \u001b[0;36m<module>\u001b[0;34m()\u001b[0m\n\u001b[0;32m----> 1\u001b[0;31m \u001b[0;32mdel\u001b[0m \u001b[0mt1\u001b[0m\u001b[0;34m[\u001b[0m\u001b[0;36m4\u001b[0m\u001b[0;34m]\u001b[0m\u001b[0;34m\u001b[0m\u001b[0;34m\u001b[0m\u001b[0m\n\u001b[0m",
            "\u001b[0;31mTypeError\u001b[0m: 'tuple' object doesn't support item deletion"
          ]
        }
      ]
    },
    {
      "cell_type": "markdown",
      "metadata": {
        "id": "yEfWFqCtzpqW",
        "colab_type": "text"
      },
      "source": [
        "Delete a tuple"
      ]
    },
    {
      "cell_type": "code",
      "metadata": {
        "id": "Xydd2VGVzXho",
        "colab_type": "code",
        "colab": {
          "base_uri": "https://localhost:8080/",
          "height": 34
        },
        "outputId": "0ab6de5e-51e8-40ee-fad5-0cd315a367e5"
      },
      "source": [
        "print(t1)\n",
        "del t1"
      ],
      "execution_count": 47,
      "outputs": [
        {
          "output_type": "stream",
          "text": [
            "(1, 2.4, 3, 7.2, 4, 'Python', 'java')\n"
          ],
          "name": "stdout"
        }
      ]
    },
    {
      "cell_type": "markdown",
      "metadata": {
        "id": "vrTwgux70IV4",
        "colab_type": "text"
      },
      "source": [
        "Occurance of the element - count()"
      ]
    },
    {
      "cell_type": "code",
      "metadata": {
        "id": "g3_33tTKzup8",
        "colab_type": "code",
        "colab": {
          "base_uri": "https://localhost:8080/",
          "height": 34
        },
        "outputId": "26de3122-f718-4f59-9361-fca57d5ca53c"
      },
      "source": [
        "t1=tuple('GITAM')\n",
        "t2=('S','C','H','O','O','L')\n",
        "t1=t1+t2\n",
        "print(t1)"
      ],
      "execution_count": 48,
      "outputs": [
        {
          "output_type": "stream",
          "text": [
            "('G', 'I', 'T', 'A', 'M', 'S', 'C', 'H', 'O', 'O', 'L')\n"
          ],
          "name": "stdout"
        }
      ]
    },
    {
      "cell_type": "code",
      "metadata": {
        "id": "7GOLQedw0C6W",
        "colab_type": "code",
        "colab": {
          "base_uri": "https://localhost:8080/",
          "height": 34
        },
        "outputId": "a8fd37a1-3e84-4821-82f8-7848f0e8c7ed"
      },
      "source": [
        "print(t1.count('O'))"
      ],
      "execution_count": 49,
      "outputs": [
        {
          "output_type": "stream",
          "text": [
            "2\n"
          ],
          "name": "stdout"
        }
      ]
    },
    {
      "cell_type": "markdown",
      "metadata": {
        "id": "6-wQxmbx0UCs",
        "colab_type": "text"
      },
      "source": [
        "To find the index number of the element in a tuple - index()"
      ]
    },
    {
      "cell_type": "code",
      "metadata": {
        "id": "IGrtZpej0GYC",
        "colab_type": "code",
        "colab": {
          "base_uri": "https://localhost:8080/",
          "height": 34
        },
        "outputId": "3cdc35f8-c441-4e39-d654-04730a12d2ed"
      },
      "source": [
        "print(t1.index('S'))"
      ],
      "execution_count": 50,
      "outputs": [
        {
          "output_type": "stream",
          "text": [
            "5\n"
          ],
          "name": "stdout"
        }
      ]
    },
    {
      "cell_type": "code",
      "metadata": {
        "id": "QSCyq0og0S9q",
        "colab_type": "code",
        "colab": {
          "base_uri": "https://localhost:8080/",
          "height": 34
        },
        "outputId": "18e37979-5250-4448-80ef-17d635341c13"
      },
      "source": [
        "print(t1.index('O'))"
      ],
      "execution_count": 51,
      "outputs": [
        {
          "output_type": "stream",
          "text": [
            "8\n"
          ],
          "name": "stdout"
        }
      ]
    },
    {
      "cell_type": "code",
      "metadata": {
        "id": "wKrlinaJ0jrA",
        "colab_type": "code",
        "colab": {
          "base_uri": "https://localhost:8080/",
          "height": 84
        },
        "outputId": "29f41dff-d86b-4e08-943d-36cc330e9e74"
      },
      "source": [
        "tname=('Ram','Sham','Ravi','Raju')\n",
        "for i in tname:\n",
        "  print(\"Hello\",i)"
      ],
      "execution_count": 52,
      "outputs": [
        {
          "output_type": "stream",
          "text": [
            "Hello Ram\n",
            "Hello Sham\n",
            "Hello Ravi\n",
            "Hello Raju\n"
          ],
          "name": "stdout"
        }
      ]
    },
    {
      "cell_type": "markdown",
      "metadata": {
        "id": "kzReauGW1RHp",
        "colab_type": "text"
      },
      "source": [
        "NESTED TUPLES"
      ]
    },
    {
      "cell_type": "markdown",
      "metadata": {
        "id": "jFV9Wd3l2cVj",
        "colab_type": "text"
      },
      "source": [
        "To retrive from nested tuple"
      ]
    },
    {
      "cell_type": "code",
      "metadata": {
        "id": "ipNyoeV9041F",
        "colab_type": "code",
        "colab": {
          "base_uri": "https://localhost:8080/",
          "height": 34
        },
        "outputId": "c8055161-9f3c-4a4d-b969-911eea2e2ca4"
      },
      "source": [
        "t1=(1, 'Ram', (2, 4, 5.6, 7))\n",
        "print(t1)"
      ],
      "execution_count": 53,
      "outputs": [
        {
          "output_type": "stream",
          "text": [
            "(1, 'Ram', (2, 4, 5.6, 7))\n"
          ],
          "name": "stdout"
        }
      ]
    },
    {
      "cell_type": "code",
      "metadata": {
        "id": "Grw54OBl1ax-",
        "colab_type": "code",
        "colab": {
          "base_uri": "https://localhost:8080/",
          "height": 34
        },
        "outputId": "2fa019ae-d7eb-4418-a5fb-46e35b68b143"
      },
      "source": [
        "len(t1)"
      ],
      "execution_count": 54,
      "outputs": [
        {
          "output_type": "execute_result",
          "data": {
            "text/plain": [
              "3"
            ]
          },
          "metadata": {
            "tags": []
          },
          "execution_count": 54
        }
      ]
    },
    {
      "cell_type": "code",
      "metadata": {
        "id": "gkJOE3rA1eLK",
        "colab_type": "code",
        "colab": {
          "base_uri": "https://localhost:8080/",
          "height": 34
        },
        "outputId": "0d0c943c-4264-40e3-82eb-3601c438bb84"
      },
      "source": [
        "t1[2]"
      ],
      "execution_count": 55,
      "outputs": [
        {
          "output_type": "execute_result",
          "data": {
            "text/plain": [
              "(2, 4, 5.6, 7)"
            ]
          },
          "metadata": {
            "tags": []
          },
          "execution_count": 55
        }
      ]
    },
    {
      "cell_type": "code",
      "metadata": {
        "id": "MoOvKGag1h73",
        "colab_type": "code",
        "colab": {
          "base_uri": "https://localhost:8080/",
          "height": 34
        },
        "outputId": "68c32874-12c8-4209-ea61-0e0652ac5e71"
      },
      "source": [
        "len(t1[2])"
      ],
      "execution_count": 56,
      "outputs": [
        {
          "output_type": "execute_result",
          "data": {
            "text/plain": [
              "4"
            ]
          },
          "metadata": {
            "tags": []
          },
          "execution_count": 56
        }
      ]
    },
    {
      "cell_type": "code",
      "metadata": {
        "id": "ZDrmT1wB1ko2",
        "colab_type": "code",
        "colab": {
          "base_uri": "https://localhost:8080/",
          "height": 34
        },
        "outputId": "c3dd3906-69a4-4ec7-cf4f-c7310f092299"
      },
      "source": [
        "t1[2][1]"
      ],
      "execution_count": 58,
      "outputs": [
        {
          "output_type": "execute_result",
          "data": {
            "text/plain": [
              "4"
            ]
          },
          "metadata": {
            "tags": []
          },
          "execution_count": 58
        }
      ]
    },
    {
      "cell_type": "code",
      "metadata": {
        "id": "0I2C1XO311Z2",
        "colab_type": "code",
        "colab": {
          "base_uri": "https://localhost:8080/",
          "height": 34
        },
        "outputId": "8b5dfc5e-2c4b-4752-9636-604836e77b04"
      },
      "source": [
        "t1=(1, 'Ram', (2, 4,(10,20,30), 5.6, 7))\n",
        "len(t1)"
      ],
      "execution_count": 59,
      "outputs": [
        {
          "output_type": "execute_result",
          "data": {
            "text/plain": [
              "3"
            ]
          },
          "metadata": {
            "tags": []
          },
          "execution_count": 59
        }
      ]
    },
    {
      "cell_type": "code",
      "metadata": {
        "id": "QQRtOtzJ2Tg4",
        "colab_type": "code",
        "colab": {
          "base_uri": "https://localhost:8080/",
          "height": 34
        },
        "outputId": "f4a06e41-885f-4429-81a7-d576c5b8965b"
      },
      "source": [
        "t1[2][2][0]"
      ],
      "execution_count": 60,
      "outputs": [
        {
          "output_type": "execute_result",
          "data": {
            "text/plain": [
              "10"
            ]
          },
          "metadata": {
            "tags": []
          },
          "execution_count": 60
        }
      ]
    },
    {
      "cell_type": "code",
      "metadata": {
        "id": "4qgxtOMU2Yrm",
        "colab_type": "code",
        "colab": {
          "base_uri": "https://localhost:8080/",
          "height": 34
        },
        "outputId": "6ca94b0b-c2a3-4f83-ea41-68c22e590637"
      },
      "source": [
        "t1[2][2]"
      ],
      "execution_count": 61,
      "outputs": [
        {
          "output_type": "execute_result",
          "data": {
            "text/plain": [
              "(10, 20, 30)"
            ]
          },
          "metadata": {
            "tags": []
          },
          "execution_count": 61
        }
      ]
    },
    {
      "cell_type": "markdown",
      "metadata": {
        "id": "G1hzM-vO3cmY",
        "colab_type": "text"
      },
      "source": [
        "To remove a element (using slicing operator)"
      ]
    },
    {
      "cell_type": "code",
      "metadata": {
        "id": "f6Ue8ikZ2uCv",
        "colab_type": "code",
        "colab": {
          "base_uri": "https://localhost:8080/",
          "height": 34
        },
        "outputId": "b7a1f96f-baea-4eae-d576-fca0ab834b69"
      },
      "source": [
        "t1=('G','I',4,'T','A','M')\n",
        "t1=t1[:2]+t1[3:]\n",
        "print(t1)\n"
      ],
      "execution_count": 63,
      "outputs": [
        {
          "output_type": "stream",
          "text": [
            "('G', 'I', 'T', 'A', 'M')\n"
          ],
          "name": "stdout"
        }
      ]
    },
    {
      "cell_type": "markdown",
      "metadata": {
        "id": "RvsRpq_533uJ",
        "colab_type": "text"
      },
      "source": [
        "2 nd way - by converting it to a list "
      ]
    },
    {
      "cell_type": "code",
      "metadata": {
        "id": "FfSlUuAT3LIk",
        "colab_type": "code",
        "colab": {
          "base_uri": "https://localhost:8080/",
          "height": 34
        },
        "outputId": "1d63c22d-f58f-4b99-a229-aa56796a4ed0"
      },
      "source": [
        "t1=('G','I',4,'T','A','M')\n",
        "list1=list(t1)\n",
        "list1.remove(4)\n",
        "t1=tuple(list1)\n",
        "print(t1)"
      ],
      "execution_count": 66,
      "outputs": [
        {
          "output_type": "stream",
          "text": [
            "('G', 'I', 'T', 'A', 'M')\n"
          ],
          "name": "stdout"
        }
      ]
    },
    {
      "cell_type": "code",
      "metadata": {
        "id": "Wd1MF33q3um4",
        "colab_type": "code",
        "colab": {}
      },
      "source": [
        ""
      ],
      "execution_count": null,
      "outputs": []
    }
  ]
}