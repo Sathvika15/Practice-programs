{
  "nbformat": 4,
  "nbformat_minor": 0,
  "metadata": {
    "colab": {
      "name": "Day7.ipynb",
      "provenance": [],
      "collapsed_sections": [],
      "authorship_tag": "ABX9TyOuCfBx11ygaRUK1U7mOzQD",
      "include_colab_link": true
    },
    "kernelspec": {
      "name": "python3",
      "display_name": "Python 3"
    }
  },
  "cells": [
    {
      "cell_type": "markdown",
      "metadata": {
        "id": "view-in-github",
        "colab_type": "text"
      },
      "source": [
        "<a href=\"https://colab.research.google.com/github/Sathvika15/Practice-programs/blob/master/Day7.ipynb\" target=\"_parent\"><img src=\"https://colab.research.google.com/assets/colab-badge.svg\" alt=\"Open In Colab\"/></a>"
      ]
    },
    {
      "cell_type": "markdown",
      "metadata": {
        "id": "7raHXV4vq2zQ",
        "colab_type": "text"
      },
      "source": [
        "Continue of for loop "
      ]
    },
    {
      "cell_type": "code",
      "metadata": {
        "id": "3wM8p6_2qi9r",
        "colab_type": "code",
        "colab": {
          "base_uri": "https://localhost:8080/",
          "height": 34
        },
        "outputId": "866e56ce-6598-49a8-deab-9ec3a5ec1ac3"
      },
      "source": [
        "for i in range(5,20,1):\n",
        "  print(i,end=' ')"
      ],
      "execution_count": 2,
      "outputs": [
        {
          "output_type": "stream",
          "text": [
            "5 6 7 8 9 10 11 12 13 14 15 16 17 18 19 "
          ],
          "name": "stdout"
        }
      ]
    },
    {
      "cell_type": "code",
      "metadata": {
        "id": "6iN3UhTJraiD",
        "colab_type": "code",
        "colab": {
          "base_uri": "https://localhost:8080/",
          "height": 84
        },
        "outputId": "7a390a25-28c8-4841-e811-1f431da5e157"
      },
      "source": [
        "print(\"for odd\")\n",
        "for i in range(1,51,2):\n",
        "  print(i,end=\" \")\n",
        "print(\"\\r\")  \n",
        "print(\"for even \")\n",
        "for i in range(0,51,2):\n",
        "  print(i,end=\" \")\n",
        "    "
      ],
      "execution_count": 9,
      "outputs": [
        {
          "output_type": "stream",
          "text": [
            "for odd\n",
            "1 3 5 7 9 11 13 15 17 19 21 23 25 27 29 31 33 35 37 39 41 43 45 47 49 \r\n",
            "for even \n",
            "0 2 4 6 8 10 12 14 16 18 20 22 24 26 28 30 32 34 36 38 40 42 44 46 48 50 "
          ],
          "name": "stdout"
        }
      ]
    },
    {
      "cell_type": "code",
      "metadata": {
        "id": "HBLbR9bCrqYq",
        "colab_type": "code",
        "colab": {
          "base_uri": "https://localhost:8080/",
          "height": 178
        },
        "outputId": "4dfa5dcf-4191-48d7-a402-4b74237b78f4"
      },
      "source": [
        "for i in range(5,10,0.5):\n",
        "  print(i)"
      ],
      "execution_count": 10,
      "outputs": [
        {
          "output_type": "error",
          "ename": "TypeError",
          "evalue": "ignored",
          "traceback": [
            "\u001b[0;31m---------------------------------------------------------------------------\u001b[0m",
            "\u001b[0;31mTypeError\u001b[0m                                 Traceback (most recent call last)",
            "\u001b[0;32m<ipython-input-10-78fe6d0cc5a4>\u001b[0m in \u001b[0;36m<module>\u001b[0;34m()\u001b[0m\n\u001b[0;32m----> 1\u001b[0;31m \u001b[0;32mfor\u001b[0m \u001b[0mi\u001b[0m \u001b[0;32min\u001b[0m \u001b[0mrange\u001b[0m\u001b[0;34m(\u001b[0m\u001b[0;36m5\u001b[0m\u001b[0;34m,\u001b[0m\u001b[0;36m10\u001b[0m\u001b[0;34m,\u001b[0m\u001b[0;36m0.5\u001b[0m\u001b[0;34m)\u001b[0m\u001b[0;34m:\u001b[0m\u001b[0;34m\u001b[0m\u001b[0;34m\u001b[0m\u001b[0m\n\u001b[0m\u001b[1;32m      2\u001b[0m   \u001b[0mprint\u001b[0m\u001b[0;34m(\u001b[0m\u001b[0mi\u001b[0m\u001b[0;34m)\u001b[0m\u001b[0;34m\u001b[0m\u001b[0;34m\u001b[0m\u001b[0m\n",
            "\u001b[0;31mTypeError\u001b[0m: 'float' object cannot be interpreted as an integer"
          ]
        }
      ]
    },
    {
      "cell_type": "markdown",
      "metadata": {
        "id": "OwKM8cJxuBIO",
        "colab_type": "text"
      },
      "source": [
        "for loop for string "
      ]
    },
    {
      "cell_type": "code",
      "metadata": {
        "id": "7VQ9Osx7teMj",
        "colab_type": "code",
        "colab": {
          "base_uri": "https://localhost:8080/",
          "height": 286
        },
        "outputId": "e171f78c-6be9-419f-9245-a8a99d3634f7"
      },
      "source": [
        "for char in \"GITAM UNIVERSITY\":\n",
        "  print(char)"
      ],
      "execution_count": 11,
      "outputs": [
        {
          "output_type": "stream",
          "text": [
            "G\n",
            "I\n",
            "T\n",
            "A\n",
            "M\n",
            " \n",
            "U\n",
            "N\n",
            "I\n",
            "V\n",
            "E\n",
            "R\n",
            "S\n",
            "I\n",
            "T\n",
            "Y\n"
          ],
          "name": "stdout"
        }
      ]
    },
    {
      "cell_type": "markdown",
      "metadata": {
        "id": "GLuc8Aqfv6cX",
        "colab_type": "text"
      },
      "source": [
        "Program to print the sum and the average of the given numbers "
      ]
    },
    {
      "cell_type": "code",
      "metadata": {
        "id": "SHCQV3j_vNLH",
        "colab_type": "code",
        "colab": {
          "base_uri": "https://localhost:8080/",
          "height": 34
        },
        "outputId": "3085a2d7-4ada-4255-c8e1-bc2fa5c56b59"
      },
      "source": [
        "number=[40,30,27,81.5]\n",
        "sum=0\n",
        "for i in number:\n",
        "  sum=sum+i\n",
        "avg=sum/len(number)\n",
        "print(\"The sum and average is \",sum,\"and \",avg)  "
      ],
      "execution_count": 16,
      "outputs": [
        {
          "output_type": "stream",
          "text": [
            "The sum and average is  178.5 and  44.625\n"
          ],
          "name": "stdout"
        }
      ]
    },
    {
      "cell_type": "markdown",
      "metadata": {
        "id": "DGxEgK9nw1Ho",
        "colab_type": "text"
      },
      "source": [
        "Prime number or no "
      ]
    },
    {
      "cell_type": "markdown",
      "metadata": {
        "id": "9VPnxvAkw3EC",
        "colab_type": "text"
      },
      "source": [
        "2nd method "
      ]
    },
    {
      "cell_type": "code",
      "metadata": {
        "id": "y_rsfksywlKh",
        "colab_type": "code",
        "colab": {
          "base_uri": "https://localhost:8080/",
          "height": 34
        },
        "outputId": "fffa803b-4b3b-4dc1-a9dd-60594de2b699"
      },
      "source": [
        "def prime(n):\n",
        "  for i in range(2,(n//2)+1):\n",
        "    if n%i==0:\n",
        "      return \"Not prime \"\n",
        "    else:\n",
        "      return \"Prime \"\n",
        "prime(5)      \n"
      ],
      "execution_count": 19,
      "outputs": [
        {
          "output_type": "execute_result",
          "data": {
            "text/plain": [
              "'Prime '"
            ]
          },
          "metadata": {
            "tags": []
          },
          "execution_count": 19
        }
      ]
    },
    {
      "cell_type": "code",
      "metadata": {
        "id": "PS900s4mxOmz",
        "colab_type": "code",
        "colab": {
          "base_uri": "https://localhost:8080/",
          "height": 118
        },
        "outputId": "64f0faf5-15c6-4781-e365-6c3c4e16580b"
      },
      "source": [
        "n1=int(input(\"Enter n1: \"))\n",
        "n2=int(input(\"Enter n2: \"))\n",
        "for num in range(n1, n2+1):\n",
        "    if num>1:\n",
        "        for i in range(2,num):\n",
        "            if num%i==0:\n",
        "                break\n",
        "        else:\n",
        "            print(num)\n"
      ],
      "execution_count": 35,
      "outputs": [
        {
          "output_type": "stream",
          "text": [
            "Enter n1: 10\n",
            "Enter n2: 20\n",
            "11\n",
            "13\n",
            "17\n",
            "19\n"
          ],
          "name": "stdout"
        }
      ]
    },
    {
      "cell_type": "markdown",
      "metadata": {
        "id": "XCWGS0_a0Y1t",
        "colab_type": "text"
      },
      "source": [
        "Addition of two matrices "
      ]
    },
    {
      "cell_type": "code",
      "metadata": {
        "id": "fte8R0LNyIJe",
        "colab_type": "code",
        "colab": {
          "base_uri": "https://localhost:8080/",
          "height": 67
        },
        "outputId": "197f704a-ae11-4ca9-8bb9-897ac6fcf859"
      },
      "source": [
        "m1=[[1,6,3],\n",
        "     [9,5,6],\n",
        "     [7,0,9]]\n",
        "m2=[[2,5,1],\n",
        "    [4,2,8],\n",
        "    [7,2,6]]     \n",
        "for i in range(len(m1)):\n",
        "  for j in range(len(m2)):\n",
        "    result[i][j]=m1[i][j]+m2[i][j]\n",
        "for r in result:\n",
        "  print(r)                 "
      ],
      "execution_count": 48,
      "outputs": [
        {
          "output_type": "stream",
          "text": [
            "[3, 11, 4]\n",
            "[13, 7, 14]\n",
            "[14, 2, 15]\n"
          ],
          "name": "stdout"
        }
      ]
    },
    {
      "cell_type": "markdown",
      "metadata": {
        "id": "ADrIOZL578k7",
        "colab_type": "text"
      },
      "source": [
        "Multiplication of 2 matrices "
      ]
    },
    {
      "cell_type": "code",
      "metadata": {
        "id": "ueB8rDty1RrQ",
        "colab_type": "code",
        "colab": {}
      },
      "source": [
        "m1=[[1,6,3],\n",
        "     [9,5,6],\n",
        "     [7,0,9]]\n",
        "m2=[[2,5,1],\n",
        "    [4,2,8],\n",
        "    [7,2,6]]     \n",
        "reesult=[[0,0,0],\n",
        "    [0,0,0],\n",
        "    [0,0,0]] \n",
        "for i in range(len(m1)):\n",
        "  for j in range(len(m2)):\n",
        "    for k in range(len(m2)):\n",
        "      result[i][j]= result[i][j]+m1[i][k]*m2[k][j]\n",
        "for r in result:\n",
        "  print(r)               "
      ],
      "execution_count": null,
      "outputs": []
    }
  ]
}